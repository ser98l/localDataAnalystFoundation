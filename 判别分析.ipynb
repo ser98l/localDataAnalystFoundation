{
 "cells": [
  {
   "cell_type": "code",
   "execution_count": 3,
   "metadata": {
    "collapsed": true,
    "ExecuteTime": {
     "start_time": "2023-08-06T14:27:42.064952Z",
     "end_time": "2023-08-06T14:27:42.617796Z"
    }
   },
   "outputs": [],
   "source": [
    "from  sklearn.neighbors import  KNeighborsClassifier\n",
    "import numpy as np\n",
    "import pandas as pd"
   ]
  },
  {
   "cell_type": "code",
   "execution_count": 13,
   "outputs": [
    {
     "data": {
      "text/plain": "              open  close    low   high    avg     volume       money  \\\ncode                                                                    \n000001.XSHE  11.97  12.25  11.93  12.48  12.27  148047376  1816868033   \n000046.XSHE   0.87   0.86   0.82   0.87   0.85  171775743   146345703   \n000166.XSHE   4.46   4.52   4.44   4.56   4.51  107412517   484609049   \n000415.XSHE   2.17   2.20   2.16   2.24   2.20   69243536   152461296   \n000416.XSHE   2.50   2.47   2.40   2.53   2.47   71560095   176868205   \n...            ...    ...    ...    ...    ...        ...         ...   \n601995.XSHG  41.40  42.08  41.20  42.60  41.96   15653801   656916903   \n601997.XSHG   5.29   5.35   5.29   5.36   5.33   31177049   166211932   \n601998.XSHG   6.10   6.15   5.97   6.22   6.12   65930407   403768901   \n603093.XSHG  12.43  12.38  12.04  12.51  12.31    8039942    99003021   \n603323.XSHG   4.57   4.55   4.52   4.59   4.56   50469086   229940234   \n\n             capitalization  circulating_cap  market_cap  \\\ncode                                                       \n000001.XSHE    1.940592e+06     1.940555e+06   2435.4426   \n000046.XSHE    5.196201e+05     5.193962e+05     44.6873   \n000166.XSHE    2.503994e+06     2.253551e+06   1131.8055   \n000415.XSHE    6.184521e+05     5.392739e+05    136.0595   \n000416.XSHE    5.318715e+04     5.316411e+04     13.1372   \n...                     ...              ...         ...   \n601995.XSHG    4.827257e+05     9.296212e+04   2031.3097   \n601997.XSHG    3.656198e+05     3.569026e+05    206.5752   \n601998.XSHG    4.893484e+06     3.405268e+06   3180.7649   \n603093.XSHG    6.100659e+04     6.100659e+04     75.9532   \n603323.XSHG    1.803073e+05     1.543730e+05     85.4657   \n\n             circulating_market_cap  turnover_ratio  pe_ratio  pb_ratio  \\\ncode                                                                      \n000001.XSHE               2435.3960          0.7448    5.1524    0.6463   \n000046.XSHE                 44.6681          3.3073   -0.3818    1.1145   \n000166.XSHE               1018.6049          0.4766   30.3509    1.1610   \n000415.XSHE                118.6403          1.2840  -13.5651    0.4962   \n000416.XSHE                 13.1315         13.4602  -45.9737    1.5357   \n...                             ...             ...       ...       ...   \n601995.XSHG                391.1846          1.6839   26.7365    2.4536   \n601997.XSHG                201.6500          0.8273    3.3959    0.4086   \n601998.XSHG               2213.4243          0.1831    5.1218    0.5811   \n603093.XSHG                 75.9532          1.3105   27.0991    2.2564   \n603323.XSHG                 73.1728          3.1406    5.5104    0.5876   \n\n             ps_ratio  pcf_ratio  class  \ncode                                     \n000001.XSHE    1.3622   -15.8899      0  \n000046.XSHE    0.4608   -10.9230      0  \n000166.XSHE    5.2533    94.5973      0  \n000415.XSHE    0.4273  -154.7854      0  \n000416.XSHE   66.8631  -177.9391      0  \n...               ...        ...    ...  \n601995.XSHG    7.7866    17.7151      1  \n601997.XSHG    1.2791    -8.5348      1  \n601998.XSHG    1.5047     5.7776      1  \n603093.XSHG    1.1392    -8.9269      1  \n603323.XSHG    2.1098    21.0125      1  \n\n[129 rows x 17 columns]",
      "text/html": "<div>\n<style scoped>\n    .dataframe tbody tr th:only-of-type {\n        vertical-align: middle;\n    }\n\n    .dataframe tbody tr th {\n        vertical-align: top;\n    }\n\n    .dataframe thead th {\n        text-align: right;\n    }\n</style>\n<table border=\"1\" class=\"dataframe\">\n  <thead>\n    <tr style=\"text-align: right;\">\n      <th></th>\n      <th>open</th>\n      <th>close</th>\n      <th>low</th>\n      <th>high</th>\n      <th>avg</th>\n      <th>volume</th>\n      <th>money</th>\n      <th>capitalization</th>\n      <th>circulating_cap</th>\n      <th>market_cap</th>\n      <th>circulating_market_cap</th>\n      <th>turnover_ratio</th>\n      <th>pe_ratio</th>\n      <th>pb_ratio</th>\n      <th>ps_ratio</th>\n      <th>pcf_ratio</th>\n      <th>class</th>\n    </tr>\n    <tr>\n      <th>code</th>\n      <th></th>\n      <th></th>\n      <th></th>\n      <th></th>\n      <th></th>\n      <th></th>\n      <th></th>\n      <th></th>\n      <th></th>\n      <th></th>\n      <th></th>\n      <th></th>\n      <th></th>\n      <th></th>\n      <th></th>\n      <th></th>\n      <th></th>\n    </tr>\n  </thead>\n  <tbody>\n    <tr>\n      <th>000001.XSHE</th>\n      <td>11.97</td>\n      <td>12.25</td>\n      <td>11.93</td>\n      <td>12.48</td>\n      <td>12.27</td>\n      <td>148047376</td>\n      <td>1816868033</td>\n      <td>1.940592e+06</td>\n      <td>1.940555e+06</td>\n      <td>2435.4426</td>\n      <td>2435.3960</td>\n      <td>0.7448</td>\n      <td>5.1524</td>\n      <td>0.6463</td>\n      <td>1.3622</td>\n      <td>-15.8899</td>\n      <td>0</td>\n    </tr>\n    <tr>\n      <th>000046.XSHE</th>\n      <td>0.87</td>\n      <td>0.86</td>\n      <td>0.82</td>\n      <td>0.87</td>\n      <td>0.85</td>\n      <td>171775743</td>\n      <td>146345703</td>\n      <td>5.196201e+05</td>\n      <td>5.193962e+05</td>\n      <td>44.6873</td>\n      <td>44.6681</td>\n      <td>3.3073</td>\n      <td>-0.3818</td>\n      <td>1.1145</td>\n      <td>0.4608</td>\n      <td>-10.9230</td>\n      <td>0</td>\n    </tr>\n    <tr>\n      <th>000166.XSHE</th>\n      <td>4.46</td>\n      <td>4.52</td>\n      <td>4.44</td>\n      <td>4.56</td>\n      <td>4.51</td>\n      <td>107412517</td>\n      <td>484609049</td>\n      <td>2.503994e+06</td>\n      <td>2.253551e+06</td>\n      <td>1131.8055</td>\n      <td>1018.6049</td>\n      <td>0.4766</td>\n      <td>30.3509</td>\n      <td>1.1610</td>\n      <td>5.2533</td>\n      <td>94.5973</td>\n      <td>0</td>\n    </tr>\n    <tr>\n      <th>000415.XSHE</th>\n      <td>2.17</td>\n      <td>2.20</td>\n      <td>2.16</td>\n      <td>2.24</td>\n      <td>2.20</td>\n      <td>69243536</td>\n      <td>152461296</td>\n      <td>6.184521e+05</td>\n      <td>5.392739e+05</td>\n      <td>136.0595</td>\n      <td>118.6403</td>\n      <td>1.2840</td>\n      <td>-13.5651</td>\n      <td>0.4962</td>\n      <td>0.4273</td>\n      <td>-154.7854</td>\n      <td>0</td>\n    </tr>\n    <tr>\n      <th>000416.XSHE</th>\n      <td>2.50</td>\n      <td>2.47</td>\n      <td>2.40</td>\n      <td>2.53</td>\n      <td>2.47</td>\n      <td>71560095</td>\n      <td>176868205</td>\n      <td>5.318715e+04</td>\n      <td>5.316411e+04</td>\n      <td>13.1372</td>\n      <td>13.1315</td>\n      <td>13.4602</td>\n      <td>-45.9737</td>\n      <td>1.5357</td>\n      <td>66.8631</td>\n      <td>-177.9391</td>\n      <td>0</td>\n    </tr>\n    <tr>\n      <th>...</th>\n      <td>...</td>\n      <td>...</td>\n      <td>...</td>\n      <td>...</td>\n      <td>...</td>\n      <td>...</td>\n      <td>...</td>\n      <td>...</td>\n      <td>...</td>\n      <td>...</td>\n      <td>...</td>\n      <td>...</td>\n      <td>...</td>\n      <td>...</td>\n      <td>...</td>\n      <td>...</td>\n      <td>...</td>\n    </tr>\n    <tr>\n      <th>601995.XSHG</th>\n      <td>41.40</td>\n      <td>42.08</td>\n      <td>41.20</td>\n      <td>42.60</td>\n      <td>41.96</td>\n      <td>15653801</td>\n      <td>656916903</td>\n      <td>4.827257e+05</td>\n      <td>9.296212e+04</td>\n      <td>2031.3097</td>\n      <td>391.1846</td>\n      <td>1.6839</td>\n      <td>26.7365</td>\n      <td>2.4536</td>\n      <td>7.7866</td>\n      <td>17.7151</td>\n      <td>1</td>\n    </tr>\n    <tr>\n      <th>601997.XSHG</th>\n      <td>5.29</td>\n      <td>5.35</td>\n      <td>5.29</td>\n      <td>5.36</td>\n      <td>5.33</td>\n      <td>31177049</td>\n      <td>166211932</td>\n      <td>3.656198e+05</td>\n      <td>3.569026e+05</td>\n      <td>206.5752</td>\n      <td>201.6500</td>\n      <td>0.8273</td>\n      <td>3.3959</td>\n      <td>0.4086</td>\n      <td>1.2791</td>\n      <td>-8.5348</td>\n      <td>1</td>\n    </tr>\n    <tr>\n      <th>601998.XSHG</th>\n      <td>6.10</td>\n      <td>6.15</td>\n      <td>5.97</td>\n      <td>6.22</td>\n      <td>6.12</td>\n      <td>65930407</td>\n      <td>403768901</td>\n      <td>4.893484e+06</td>\n      <td>3.405268e+06</td>\n      <td>3180.7649</td>\n      <td>2213.4243</td>\n      <td>0.1831</td>\n      <td>5.1218</td>\n      <td>0.5811</td>\n      <td>1.5047</td>\n      <td>5.7776</td>\n      <td>1</td>\n    </tr>\n    <tr>\n      <th>603093.XSHG</th>\n      <td>12.43</td>\n      <td>12.38</td>\n      <td>12.04</td>\n      <td>12.51</td>\n      <td>12.31</td>\n      <td>8039942</td>\n      <td>99003021</td>\n      <td>6.100659e+04</td>\n      <td>6.100659e+04</td>\n      <td>75.9532</td>\n      <td>75.9532</td>\n      <td>1.3105</td>\n      <td>27.0991</td>\n      <td>2.2564</td>\n      <td>1.1392</td>\n      <td>-8.9269</td>\n      <td>1</td>\n    </tr>\n    <tr>\n      <th>603323.XSHG</th>\n      <td>4.57</td>\n      <td>4.55</td>\n      <td>4.52</td>\n      <td>4.59</td>\n      <td>4.56</td>\n      <td>50469086</td>\n      <td>229940234</td>\n      <td>1.803073e+05</td>\n      <td>1.543730e+05</td>\n      <td>85.4657</td>\n      <td>73.1728</td>\n      <td>3.1406</td>\n      <td>5.5104</td>\n      <td>0.5876</td>\n      <td>2.1098</td>\n      <td>21.0125</td>\n      <td>1</td>\n    </tr>\n  </tbody>\n</table>\n<p>129 rows × 17 columns</p>\n</div>"
     },
     "execution_count": 13,
     "metadata": {},
     "output_type": "execute_result"
    }
   ],
   "source": [
    "#导入数据\n",
    "df = pd.read_csv('C:\\\\Users\\\\59170\\\\Desktop\\\\chapter3_locDataAfterDeal.csv')#129*16\n",
    "#df = df.iloc[:,1:]\n",
    "df"
   ],
   "metadata": {
    "collapsed": false,
    "ExecuteTime": {
     "start_time": "2023-08-06T14:39:03.243127Z",
     "end_time": "2023-08-06T14:39:03.264266Z"
    }
   }
  },
  {
   "cell_type": "code",
   "execution_count": 73,
   "outputs": [],
   "source": [
    "#获取数据\n",
    "np.random.seed(1000)\n",
    "indices = np.random.permutation(len(df))\n",
    "df_x_train = df.iloc[indices[0:90],0:-1]\n",
    "df_y_train = df.iloc[indices[0:90],-1]\n",
    "df_x = df.iloc[indices,0:-1]\n",
    "df_y= df.iloc[indices,-1]\n",
    "df_x_test = df.iloc[indices[90:],0:-1]\n",
    "df_y_test = df.iloc[indices[90:],-1]"
   ],
   "metadata": {
    "collapsed": false,
    "ExecuteTime": {
     "start_time": "2023-08-06T15:43:52.064617Z",
     "end_time": "2023-08-06T15:43:52.075347Z"
    }
   }
  },
  {
   "cell_type": "code",
   "execution_count": 38,
   "outputs": [],
   "source": [
    "knn = KNeighborsClassifier(n_neighbors=2,weights='uniform',algorithm='auto',metric='mahalanobis')"
   ],
   "metadata": {
    "collapsed": false,
    "ExecuteTime": {
     "start_time": "2023-08-06T15:05:50.974302Z",
     "end_time": "2023-08-06T15:05:50.993453Z"
    }
   }
  },
  {
   "cell_type": "code",
   "execution_count": 10,
   "outputs": [],
   "source": [
    "# from sklearn import datasets\n",
    "#\n",
    "#\n",
    "# np.random.seed(1000)         # 设置随机种子\n",
    "# iris = datasets.load_iris()  # 导入鸢尾花的数据集\n",
    "# # 导入150个样本数据，每个样本4个属性分别为花瓣和花萼的长、宽\n",
    "# iris_x = iris.data\n",
    "# # 导入150个样本数据的标签\n",
    "# iris_y = iris.target"
   ],
   "metadata": {
    "collapsed": false
   }
  },
  {
   "cell_type": "code",
   "execution_count": 39,
   "outputs": [
    {
     "data": {
      "text/plain": "KNeighborsClassifier(metric='mahalanobis', n_neighbors=2)"
     },
     "execution_count": 39,
     "metadata": {},
     "output_type": "execute_result"
    }
   ],
   "source": [
    "# 调用该对象的训练方法，主要接收两个参数：训练数据集及其样本标签\n",
    "# knn.fit(df_x_train,df_y_train)"
   ],
   "metadata": {
    "collapsed": false,
    "ExecuteTime": {
     "start_time": "2023-08-06T15:06:41.133679Z",
     "end_time": "2023-08-06T15:06:41.174450Z"
    }
   }
  },
  {
   "cell_type": "code",
   "execution_count": 55,
   "outputs": [
    {
     "data": {
      "text/plain": "KNeighborsClassifier(metric='mahalanobis', n_neighbors=2)"
     },
     "execution_count": 55,
     "metadata": {},
     "output_type": "execute_result"
    }
   ],
   "source": [
    "knn.fit(df_x,df_y)"
   ],
   "metadata": {
    "collapsed": false,
    "ExecuteTime": {
     "start_time": "2023-08-06T15:25:12.567040Z",
     "end_time": "2023-08-06T15:25:12.577883Z"
    }
   }
  },
  {
   "cell_type": "code",
   "execution_count": 56,
   "outputs": [
    {
     "name": "stderr",
     "output_type": "stream",
     "text": [
      "D:\\Anaconda3\\envs\\pytorch\\lib\\site-packages\\sklearn\\metrics\\pairwise.py:1466: FutureWarning: from version 1.0 (renaming of 0.25), pairwise_distances for metric='mahalanobis' will require VI to be specified if Y is passed.\n",
      "  FutureWarning\n"
     ]
    },
    {
     "data": {
      "text/plain": "array([0, 1, 0, 0, 0, 1, 1, 1, 0, 0, 0, 1, 0, 0, 1, 1, 1, 0, 1, 0, 0, 1,\n       0, 0, 0, 0, 0, 1, 0, 0, 0, 0, 0, 1, 1, 0, 1, 1, 0, 1, 0, 1, 1, 1,\n       1, 1, 0, 0, 0, 1, 1, 0, 1, 0, 0, 0, 0, 0, 0, 0, 0, 1, 1, 0, 0, 1,\n       0, 1, 0, 0, 0, 1, 1, 1, 0, 1, 0, 1, 0, 1, 0, 0, 0, 0, 0, 1, 0, 1,\n       1, 0, 1, 0, 1, 0, 0, 0, 1, 1, 0, 0, 1, 0, 0, 1, 0, 0, 0, 1, 1, 1,\n       1, 1, 1, 0, 0, 0, 1, 0, 1, 1, 0, 1, 0, 0, 0, 0, 0, 0, 1],\n      dtype=int64)"
     },
     "execution_count": 56,
     "metadata": {},
     "output_type": "execute_result"
    }
   ],
   "source": [
    "df_y_predict2 = knn.predict(df_x)\n",
    "df_y_predict2"
   ],
   "metadata": {
    "collapsed": false,
    "ExecuteTime": {
     "start_time": "2023-08-06T15:25:42.351295Z",
     "end_time": "2023-08-06T15:25:42.420432Z"
    }
   }
  },
  {
   "cell_type": "code",
   "execution_count": 44,
   "outputs": [
    {
     "name": "stderr",
     "output_type": "stream",
     "text": [
      "D:\\Anaconda3\\envs\\pytorch\\lib\\site-packages\\sklearn\\metrics\\pairwise.py:1466: FutureWarning: from version 1.0 (renaming of 0.25), pairwise_distances for metric='mahalanobis' will require VI to be specified if Y is passed.\n",
      "  FutureWarning\n"
     ]
    },
    {
     "data": {
      "text/plain": "array([1, 0, 0, 0, 1, 0, 1, 0, 0, 0, 1, 0, 0, 0, 0, 0, 1, 1, 0, 0, 0, 0,\n       1, 1, 0, 0, 1, 0, 1, 0, 1, 0, 1, 1, 1, 0, 0, 0, 1], dtype=int64)"
     },
     "execution_count": 44,
     "metadata": {},
     "output_type": "execute_result"
    }
   ],
   "source": [
    "# 调用该对象的测试方法，主要接收一个参数：测试数据集,获得模型在测试集的泛化结果\n",
    "# df_y_predict = knn.predict(df_x_test)\n",
    "# df_y_predict"
   ],
   "metadata": {
    "collapsed": false,
    "ExecuteTime": {
     "start_time": "2023-08-06T15:13:01.165702Z",
     "end_time": "2023-08-06T15:13:01.182652Z"
    }
   }
  },
  {
   "cell_type": "code",
   "execution_count": 53,
   "outputs": [
    {
     "data": {
      "text/plain": "False    23\nTrue     16\nName: class, dtype: int64"
     },
     "execution_count": 53,
     "metadata": {},
     "output_type": "execute_result"
    }
   ],
   "source": [
    "# (df_y_test==df_y_predict).value_counts()"
   ],
   "metadata": {
    "collapsed": false,
    "ExecuteTime": {
     "start_time": "2023-08-06T15:21:22.401117Z",
     "end_time": "2023-08-06T15:21:22.411146Z"
    }
   }
  },
  {
   "cell_type": "code",
   "execution_count": 58,
   "outputs": [
    {
     "name": "stdout",
     "output_type": "stream",
     "text": [
      "准确率为： 0.7364341085271318\n"
     ]
    },
    {
     "name": "stderr",
     "output_type": "stream",
     "text": [
      "D:\\Anaconda3\\envs\\pytorch\\lib\\site-packages\\sklearn\\metrics\\pairwise.py:1466: FutureWarning: from version 1.0 (renaming of 0.25), pairwise_distances for metric='mahalanobis' will require VI to be specified if Y is passed.\n",
      "  FutureWarning\n"
     ]
    }
   ],
   "source": [
    "# 调用该对象的打分方法，计算出准确率\n",
    "score = knn.score(df_x,df_y,sample_weight=None)\n",
    "print('准确率为：',score)  # 输出准确率计算结果"
   ],
   "metadata": {
    "collapsed": false,
    "ExecuteTime": {
     "start_time": "2023-08-06T15:28:49.541884Z",
     "end_time": "2023-08-06T15:28:49.562567Z"
    }
   }
  },
  {
   "cell_type": "code",
   "execution_count": 76,
   "outputs": [
    {
     "data": {
      "text/plain": "MultinomialNB()"
     },
     "execution_count": 76,
     "metadata": {},
     "output_type": "execute_result"
    }
   ],
   "source": [
    "#贝叶斯判别分析\n",
    "from sklearn.naive_bayes import MultinomialNB\n",
    "from sklearn import preprocessing\n",
    "def min_max_normalization(np_array):\n",
    "    min_max_scaler = preprocessing.MinMaxScaler()\n",
    "    ret = min_max_scaler.fit_transform(np_array)\n",
    "    return ret           #解决非数据为负\n",
    "df_x_train =min_max_normalization(df_x_train)\n",
    "bayes = MultinomialNB()  # 定义一个贝叶斯判别分类器对象\n",
    "# 调用该对象的训练方法，主要接收两个参数：训练数据集及其样本标签\n",
    "bayes.fit(df_x_train, df_y_train)\n"
   ],
   "metadata": {
    "collapsed": false,
    "ExecuteTime": {
     "start_time": "2023-08-06T15:44:29.271114Z",
     "end_time": "2023-08-06T15:44:29.277652Z"
    }
   }
  },
  {
   "cell_type": "code",
   "execution_count": 77,
   "outputs": [
    {
     "name": "stdout",
     "output_type": "stream",
     "text": [
      "准确率为： 0.7692307692307693\n"
     ]
    }
   ],
   "source": [
    "# 调用该对象的测试方法，主要接收一个参数：测试数据集\n",
    "iris_y_predict = bayes.predict(df_x_test)\n",
    "# 调用该对象的打分方法，计算出准确率\n",
    "score = bayes.score(df_x_test,df_y_test,sample_weight=None)\n",
    "print(\"准确率为：\",score)  # 输出准确率计算结果"
   ],
   "metadata": {
    "collapsed": false,
    "ExecuteTime": {
     "start_time": "2023-08-06T15:44:30.528351Z",
     "end_time": "2023-08-06T15:44:30.544568Z"
    }
   }
  },
  {
   "cell_type": "code",
   "execution_count": 80,
   "outputs": [
    {
     "name": "stdout",
     "output_type": "stream",
     "text": [
      "准确率为： 0.7692307692307693\n"
     ]
    }
   ],
   "source": [
    "#费歇尔判别分析\n",
    "from sklearn.discriminant_analysis import LinearDiscriminantAnalysis\n",
    "fisher = LinearDiscriminantAnalysis()  # 定义一个费希尔判别分类器对象\n",
    "fisher.fit(df_x_train, df_y_train)\n",
    "# 调用该对象的测试方法，主要接收一个参数：测试数据集\n",
    "iris_y_predict = fisher.predict(df_x_test)\n",
    "# 调用该对象的打分方法，计算出准确率\n",
    "score = fisher.score(df_x_test,df_y_test,sample_weight=None)\n",
    "print('准确率为：',score)  # 输出准确率计算结果"
   ],
   "metadata": {
    "collapsed": false,
    "ExecuteTime": {
     "start_time": "2023-08-06T15:50:21.323263Z",
     "end_time": "2023-08-06T15:50:21.344803Z"
    }
   }
  }
 ],
 "metadata": {
  "kernelspec": {
   "display_name": "Python 3",
   "language": "python",
   "name": "python3"
  },
  "language_info": {
   "codemirror_mode": {
    "name": "ipython",
    "version": 2
   },
   "file_extension": ".py",
   "mimetype": "text/x-python",
   "name": "python",
   "nbconvert_exporter": "python",
   "pygments_lexer": "ipython2",
   "version": "2.7.6"
  }
 },
 "nbformat": 4,
 "nbformat_minor": 0
}
