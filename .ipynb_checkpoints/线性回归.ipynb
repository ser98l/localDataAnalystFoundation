{
 "cells": [
  {
   "cell_type": "code",
   "execution_count": 30,
   "metadata": {
    "collapsed": true,
    "ExecuteTime": {
     "start_time": "2023-08-03T22:01:12.668263Z",
     "end_time": "2023-08-03T22:01:12.677842Z"
    }
   },
   "outputs": [],
   "source": [
    "import statsmodels.api as sm\n",
    "from statsmodels.formula.api import ols\n",
    "from statsmodels.sandbox.regression.predstd import wls_prediction_std\n",
    "import matplotlib.pyplot as plt\n",
    "import seaborn as sns\n",
    "sns.set_style(\"darkgrid\")\n",
    "import pandas as pd\n",
    "import numpy as np\n"
   ]
  },
  {
   "cell_type": "code",
   "execution_count": 4,
   "outputs": [],
   "source": [
    "df=pd.read_csv(\"C:\\\\Users\\\\59170\\\\Desktop\\\\FridayDataAfterDeal.csv\")"
   ],
   "metadata": {
    "collapsed": false,
    "ExecuteTime": {
     "start_time": "2023-08-03T20:55:56.048262Z",
     "end_time": "2023-08-03T20:55:56.075382Z"
    }
   }
  },
  {
   "cell_type": "code",
   "execution_count": 5,
   "outputs": [],
   "source": [
    "df.drop(labels='Unnamed: 0',axis=1,inplace=True)\n"
   ],
   "metadata": {
    "collapsed": false,
    "ExecuteTime": {
     "start_time": "2023-08-03T20:55:57.899789Z",
     "end_time": "2023-08-03T20:55:57.926123Z"
    }
   }
  },
  {
   "cell_type": "code",
   "execution_count": 6,
   "outputs": [],
   "source": [
    "df.rename(columns={'金融HY007收盘指数':'Y'},inplace=True)\n",
    "df['trade_date'] = pd.to_datetime(df['trade_date'])"
   ],
   "metadata": {
    "collapsed": false,
    "ExecuteTime": {
     "start_time": "2023-08-03T20:55:59.328124Z",
     "end_time": "2023-08-03T20:55:59.344030Z"
    }
   }
  },
  {
   "cell_type": "code",
   "execution_count": 7,
   "outputs": [
    {
     "data": {
      "text/plain": "                  Y     X1    X2    X3    X4    X5     X6    X7     X8    X9  \\\ntrade_date                                                                     \n2023-01-03  1174.09  13.77  1.26  3.98  2.23  3.88  11.00  3.05  14.25  5.73   \n2023-01-04  1191.31  14.32  1.31  3.99  2.25  3.94  11.02  3.08  14.60  5.66   \n2023-01-05  1212.45  14.48  1.29  4.02  2.25  3.92  11.10  3.07  15.15  5.70   \n2023-01-06  1210.68  14.62  1.26  4.01  2.23  3.84  10.86  3.06  15.04  5.68   \n2023-01-09  1230.89  14.80  1.25  4.03  2.27  3.91  11.00  3.24  15.15  5.66   \n...             ...    ...   ...   ...   ...   ...    ...   ...    ...   ...   \n2023-07-26  1169.72  11.67  1.32  4.83  2.29  2.22  11.44  3.19  13.07  7.05   \n2023-07-27  1165.15  11.75  1.29  4.80  2.29  2.19  11.33  3.17  13.01  7.05   \n2023-07-28  1246.71  12.26  1.35  5.09  2.39  2.23  11.71  3.36  13.23  7.34   \n2023-07-31  1253.83  12.32  1.42  5.04  2.44  2.34  11.80  3.42  13.17  7.40   \n2023-08-01  1238.79  12.16  1.43  5.00  2.49  2.33  11.76  3.39  13.10  7.28   \n\n            ...  X123  X124  X125  X126   X127  X128  X129   X130  X131   X132  \ntrade_date  ...                                                                 \n2023-01-03  ...  5.63  6.82  3.16  7.98  38.40  5.49  4.98   9.23  4.69  13.77  \n2023-01-04  ...  5.68  6.88  3.20  7.96  38.22  5.57  5.09   9.27  4.80  14.32  \n2023-01-05  ...  5.68  6.90  3.20  8.05  38.58  5.55  5.04   9.38  4.78  14.48  \n2023-01-06  ...  5.67  6.86  3.21  7.99  38.84  5.54  5.04   9.35  4.74  14.62  \n2023-01-09  ...  5.63  6.85  3.19  8.06  38.97  5.53  5.08   9.44  4.78  14.80  \n...         ...   ...   ...   ...   ...    ...   ...   ...    ...   ...    ...  \n2023-07-26  ...  5.94  8.14  3.79  8.40  37.50  5.38  5.78  12.88  4.35  11.67  \n2023-07-27  ...  6.05  8.14  3.82  8.32  37.15  5.41  5.87  12.51  4.37  11.75  \n2023-07-28  ...  6.15  8.30  3.91  8.75  39.95  5.57  6.06  13.39  4.51  12.26  \n2023-07-31  ...  6.16  8.28  3.91  8.73  39.91  5.68  6.01  13.73  4.61  12.32  \n2023-08-01  ...  6.17  8.27  3.93  8.76  39.42  5.74  6.03  14.07  4.60  12.16  \n\n[140 rows x 132 columns]",
      "text/html": "<div>\n<style scoped>\n    .dataframe tbody tr th:only-of-type {\n        vertical-align: middle;\n    }\n\n    .dataframe tbody tr th {\n        vertical-align: top;\n    }\n\n    .dataframe thead th {\n        text-align: right;\n    }\n</style>\n<table border=\"1\" class=\"dataframe\">\n  <thead>\n    <tr style=\"text-align: right;\">\n      <th></th>\n      <th>Y</th>\n      <th>X1</th>\n      <th>X2</th>\n      <th>X3</th>\n      <th>X4</th>\n      <th>X5</th>\n      <th>X6</th>\n      <th>X7</th>\n      <th>X8</th>\n      <th>X9</th>\n      <th>...</th>\n      <th>X123</th>\n      <th>X124</th>\n      <th>X125</th>\n      <th>X126</th>\n      <th>X127</th>\n      <th>X128</th>\n      <th>X129</th>\n      <th>X130</th>\n      <th>X131</th>\n      <th>X132</th>\n    </tr>\n    <tr>\n      <th>trade_date</th>\n      <th></th>\n      <th></th>\n      <th></th>\n      <th></th>\n      <th></th>\n      <th></th>\n      <th></th>\n      <th></th>\n      <th></th>\n      <th></th>\n      <th></th>\n      <th></th>\n      <th></th>\n      <th></th>\n      <th></th>\n      <th></th>\n      <th></th>\n      <th></th>\n      <th></th>\n      <th></th>\n      <th></th>\n    </tr>\n  </thead>\n  <tbody>\n    <tr>\n      <th>2023-01-03</th>\n      <td>1174.09</td>\n      <td>13.77</td>\n      <td>1.26</td>\n      <td>3.98</td>\n      <td>2.23</td>\n      <td>3.88</td>\n      <td>11.00</td>\n      <td>3.05</td>\n      <td>14.25</td>\n      <td>5.73</td>\n      <td>...</td>\n      <td>5.63</td>\n      <td>6.82</td>\n      <td>3.16</td>\n      <td>7.98</td>\n      <td>38.40</td>\n      <td>5.49</td>\n      <td>4.98</td>\n      <td>9.23</td>\n      <td>4.69</td>\n      <td>13.77</td>\n    </tr>\n    <tr>\n      <th>2023-01-04</th>\n      <td>1191.31</td>\n      <td>14.32</td>\n      <td>1.31</td>\n      <td>3.99</td>\n      <td>2.25</td>\n      <td>3.94</td>\n      <td>11.02</td>\n      <td>3.08</td>\n      <td>14.60</td>\n      <td>5.66</td>\n      <td>...</td>\n      <td>5.68</td>\n      <td>6.88</td>\n      <td>3.20</td>\n      <td>7.96</td>\n      <td>38.22</td>\n      <td>5.57</td>\n      <td>5.09</td>\n      <td>9.27</td>\n      <td>4.80</td>\n      <td>14.32</td>\n    </tr>\n    <tr>\n      <th>2023-01-05</th>\n      <td>1212.45</td>\n      <td>14.48</td>\n      <td>1.29</td>\n      <td>4.02</td>\n      <td>2.25</td>\n      <td>3.92</td>\n      <td>11.10</td>\n      <td>3.07</td>\n      <td>15.15</td>\n      <td>5.70</td>\n      <td>...</td>\n      <td>5.68</td>\n      <td>6.90</td>\n      <td>3.20</td>\n      <td>8.05</td>\n      <td>38.58</td>\n      <td>5.55</td>\n      <td>5.04</td>\n      <td>9.38</td>\n      <td>4.78</td>\n      <td>14.48</td>\n    </tr>\n    <tr>\n      <th>2023-01-06</th>\n      <td>1210.68</td>\n      <td>14.62</td>\n      <td>1.26</td>\n      <td>4.01</td>\n      <td>2.23</td>\n      <td>3.84</td>\n      <td>10.86</td>\n      <td>3.06</td>\n      <td>15.04</td>\n      <td>5.68</td>\n      <td>...</td>\n      <td>5.67</td>\n      <td>6.86</td>\n      <td>3.21</td>\n      <td>7.99</td>\n      <td>38.84</td>\n      <td>5.54</td>\n      <td>5.04</td>\n      <td>9.35</td>\n      <td>4.74</td>\n      <td>14.62</td>\n    </tr>\n    <tr>\n      <th>2023-01-09</th>\n      <td>1230.89</td>\n      <td>14.80</td>\n      <td>1.25</td>\n      <td>4.03</td>\n      <td>2.27</td>\n      <td>3.91</td>\n      <td>11.00</td>\n      <td>3.24</td>\n      <td>15.15</td>\n      <td>5.66</td>\n      <td>...</td>\n      <td>5.63</td>\n      <td>6.85</td>\n      <td>3.19</td>\n      <td>8.06</td>\n      <td>38.97</td>\n      <td>5.53</td>\n      <td>5.08</td>\n      <td>9.44</td>\n      <td>4.78</td>\n      <td>14.80</td>\n    </tr>\n    <tr>\n      <th>...</th>\n      <td>...</td>\n      <td>...</td>\n      <td>...</td>\n      <td>...</td>\n      <td>...</td>\n      <td>...</td>\n      <td>...</td>\n      <td>...</td>\n      <td>...</td>\n      <td>...</td>\n      <td>...</td>\n      <td>...</td>\n      <td>...</td>\n      <td>...</td>\n      <td>...</td>\n      <td>...</td>\n      <td>...</td>\n      <td>...</td>\n      <td>...</td>\n      <td>...</td>\n      <td>...</td>\n    </tr>\n    <tr>\n      <th>2023-07-26</th>\n      <td>1169.72</td>\n      <td>11.67</td>\n      <td>1.32</td>\n      <td>4.83</td>\n      <td>2.29</td>\n      <td>2.22</td>\n      <td>11.44</td>\n      <td>3.19</td>\n      <td>13.07</td>\n      <td>7.05</td>\n      <td>...</td>\n      <td>5.94</td>\n      <td>8.14</td>\n      <td>3.79</td>\n      <td>8.40</td>\n      <td>37.50</td>\n      <td>5.38</td>\n      <td>5.78</td>\n      <td>12.88</td>\n      <td>4.35</td>\n      <td>11.67</td>\n    </tr>\n    <tr>\n      <th>2023-07-27</th>\n      <td>1165.15</td>\n      <td>11.75</td>\n      <td>1.29</td>\n      <td>4.80</td>\n      <td>2.29</td>\n      <td>2.19</td>\n      <td>11.33</td>\n      <td>3.17</td>\n      <td>13.01</td>\n      <td>7.05</td>\n      <td>...</td>\n      <td>6.05</td>\n      <td>8.14</td>\n      <td>3.82</td>\n      <td>8.32</td>\n      <td>37.15</td>\n      <td>5.41</td>\n      <td>5.87</td>\n      <td>12.51</td>\n      <td>4.37</td>\n      <td>11.75</td>\n    </tr>\n    <tr>\n      <th>2023-07-28</th>\n      <td>1246.71</td>\n      <td>12.26</td>\n      <td>1.35</td>\n      <td>5.09</td>\n      <td>2.39</td>\n      <td>2.23</td>\n      <td>11.71</td>\n      <td>3.36</td>\n      <td>13.23</td>\n      <td>7.34</td>\n      <td>...</td>\n      <td>6.15</td>\n      <td>8.30</td>\n      <td>3.91</td>\n      <td>8.75</td>\n      <td>39.95</td>\n      <td>5.57</td>\n      <td>6.06</td>\n      <td>13.39</td>\n      <td>4.51</td>\n      <td>12.26</td>\n    </tr>\n    <tr>\n      <th>2023-07-31</th>\n      <td>1253.83</td>\n      <td>12.32</td>\n      <td>1.42</td>\n      <td>5.04</td>\n      <td>2.44</td>\n      <td>2.34</td>\n      <td>11.80</td>\n      <td>3.42</td>\n      <td>13.17</td>\n      <td>7.40</td>\n      <td>...</td>\n      <td>6.16</td>\n      <td>8.28</td>\n      <td>3.91</td>\n      <td>8.73</td>\n      <td>39.91</td>\n      <td>5.68</td>\n      <td>6.01</td>\n      <td>13.73</td>\n      <td>4.61</td>\n      <td>12.32</td>\n    </tr>\n    <tr>\n      <th>2023-08-01</th>\n      <td>1238.79</td>\n      <td>12.16</td>\n      <td>1.43</td>\n      <td>5.00</td>\n      <td>2.49</td>\n      <td>2.33</td>\n      <td>11.76</td>\n      <td>3.39</td>\n      <td>13.10</td>\n      <td>7.28</td>\n      <td>...</td>\n      <td>6.17</td>\n      <td>8.27</td>\n      <td>3.93</td>\n      <td>8.76</td>\n      <td>39.42</td>\n      <td>5.74</td>\n      <td>6.03</td>\n      <td>14.07</td>\n      <td>4.60</td>\n      <td>12.16</td>\n    </tr>\n  </tbody>\n</table>\n<p>140 rows × 132 columns</p>\n</div>"
     },
     "execution_count": 7,
     "metadata": {},
     "output_type": "execute_result"
    }
   ],
   "source": [
    "df.set_index('trade_date')"
   ],
   "metadata": {
    "collapsed": false,
    "ExecuteTime": {
     "start_time": "2023-08-03T20:56:00.320338Z",
     "end_time": "2023-08-03T20:56:00.347258Z"
    }
   }
  },
  {
   "cell_type": "code",
   "execution_count": 9,
   "outputs": [
    {
     "data": {
      "text/plain": "                  Y     X1    X2    X3    X4    X5     X6    X7     X8    X9  \\\ntrade_date                                                                     \n2023-01-03  1174.09  13.77  1.26  3.98  2.23  3.88  11.00  3.05  14.25  5.73   \n2023-01-04  1191.31  14.32  1.31  3.99  2.25  3.94  11.02  3.08  14.60  5.66   \n2023-01-05  1212.45  14.48  1.29  4.02  2.25  3.92  11.10  3.07  15.15  5.70   \n2023-01-06  1210.68  14.62  1.26  4.01  2.23  3.84  10.86  3.06  15.04  5.68   \n2023-01-09  1230.89  14.80  1.25  4.03  2.27  3.91  11.00  3.24  15.15  5.66   \n...             ...    ...   ...   ...   ...   ...    ...   ...    ...   ...   \n2023-07-26  1169.72  11.67  1.32  4.83  2.29  2.22  11.44  3.19  13.07  7.05   \n2023-07-27  1165.15  11.75  1.29  4.80  2.29  2.19  11.33  3.17  13.01  7.05   \n2023-07-28  1246.71  12.26  1.35  5.09  2.39  2.23  11.71  3.36  13.23  7.34   \n2023-07-31  1253.83  12.32  1.42  5.04  2.44  2.34  11.80  3.42  13.17  7.40   \n2023-08-01  1238.79  12.16  1.43  5.00  2.49  2.33  11.76  3.39  13.10  7.28   \n\n            ...  X123  X124  X125  X126   X127  X128  X129   X130  X131   X132  \ntrade_date  ...                                                                 \n2023-01-03  ...  5.63  6.82  3.16  7.98  38.40  5.49  4.98   9.23  4.69  13.77  \n2023-01-04  ...  5.68  6.88  3.20  7.96  38.22  5.57  5.09   9.27  4.80  14.32  \n2023-01-05  ...  5.68  6.90  3.20  8.05  38.58  5.55  5.04   9.38  4.78  14.48  \n2023-01-06  ...  5.67  6.86  3.21  7.99  38.84  5.54  5.04   9.35  4.74  14.62  \n2023-01-09  ...  5.63  6.85  3.19  8.06  38.97  5.53  5.08   9.44  4.78  14.80  \n...         ...   ...   ...   ...   ...    ...   ...   ...    ...   ...    ...  \n2023-07-26  ...  5.94  8.14  3.79  8.40  37.50  5.38  5.78  12.88  4.35  11.67  \n2023-07-27  ...  6.05  8.14  3.82  8.32  37.15  5.41  5.87  12.51  4.37  11.75  \n2023-07-28  ...  6.15  8.30  3.91  8.75  39.95  5.57  6.06  13.39  4.51  12.26  \n2023-07-31  ...  6.16  8.28  3.91  8.73  39.91  5.68  6.01  13.73  4.61  12.32  \n2023-08-01  ...  6.17  8.27  3.93  8.76  39.42  5.74  6.03  14.07  4.60  12.16  \n\n[140 rows x 132 columns]",
      "text/html": "<div>\n<style scoped>\n    .dataframe tbody tr th:only-of-type {\n        vertical-align: middle;\n    }\n\n    .dataframe tbody tr th {\n        vertical-align: top;\n    }\n\n    .dataframe thead th {\n        text-align: right;\n    }\n</style>\n<table border=\"1\" class=\"dataframe\">\n  <thead>\n    <tr style=\"text-align: right;\">\n      <th></th>\n      <th>Y</th>\n      <th>X1</th>\n      <th>X2</th>\n      <th>X3</th>\n      <th>X4</th>\n      <th>X5</th>\n      <th>X6</th>\n      <th>X7</th>\n      <th>X8</th>\n      <th>X9</th>\n      <th>...</th>\n      <th>X123</th>\n      <th>X124</th>\n      <th>X125</th>\n      <th>X126</th>\n      <th>X127</th>\n      <th>X128</th>\n      <th>X129</th>\n      <th>X130</th>\n      <th>X131</th>\n      <th>X132</th>\n    </tr>\n    <tr>\n      <th>trade_date</th>\n      <th></th>\n      <th></th>\n      <th></th>\n      <th></th>\n      <th></th>\n      <th></th>\n      <th></th>\n      <th></th>\n      <th></th>\n      <th></th>\n      <th></th>\n      <th></th>\n      <th></th>\n      <th></th>\n      <th></th>\n      <th></th>\n      <th></th>\n      <th></th>\n      <th></th>\n      <th></th>\n      <th></th>\n    </tr>\n  </thead>\n  <tbody>\n    <tr>\n      <th>2023-01-03</th>\n      <td>1174.09</td>\n      <td>13.77</td>\n      <td>1.26</td>\n      <td>3.98</td>\n      <td>2.23</td>\n      <td>3.88</td>\n      <td>11.00</td>\n      <td>3.05</td>\n      <td>14.25</td>\n      <td>5.73</td>\n      <td>...</td>\n      <td>5.63</td>\n      <td>6.82</td>\n      <td>3.16</td>\n      <td>7.98</td>\n      <td>38.40</td>\n      <td>5.49</td>\n      <td>4.98</td>\n      <td>9.23</td>\n      <td>4.69</td>\n      <td>13.77</td>\n    </tr>\n    <tr>\n      <th>2023-01-04</th>\n      <td>1191.31</td>\n      <td>14.32</td>\n      <td>1.31</td>\n      <td>3.99</td>\n      <td>2.25</td>\n      <td>3.94</td>\n      <td>11.02</td>\n      <td>3.08</td>\n      <td>14.60</td>\n      <td>5.66</td>\n      <td>...</td>\n      <td>5.68</td>\n      <td>6.88</td>\n      <td>3.20</td>\n      <td>7.96</td>\n      <td>38.22</td>\n      <td>5.57</td>\n      <td>5.09</td>\n      <td>9.27</td>\n      <td>4.80</td>\n      <td>14.32</td>\n    </tr>\n    <tr>\n      <th>2023-01-05</th>\n      <td>1212.45</td>\n      <td>14.48</td>\n      <td>1.29</td>\n      <td>4.02</td>\n      <td>2.25</td>\n      <td>3.92</td>\n      <td>11.10</td>\n      <td>3.07</td>\n      <td>15.15</td>\n      <td>5.70</td>\n      <td>...</td>\n      <td>5.68</td>\n      <td>6.90</td>\n      <td>3.20</td>\n      <td>8.05</td>\n      <td>38.58</td>\n      <td>5.55</td>\n      <td>5.04</td>\n      <td>9.38</td>\n      <td>4.78</td>\n      <td>14.48</td>\n    </tr>\n    <tr>\n      <th>2023-01-06</th>\n      <td>1210.68</td>\n      <td>14.62</td>\n      <td>1.26</td>\n      <td>4.01</td>\n      <td>2.23</td>\n      <td>3.84</td>\n      <td>10.86</td>\n      <td>3.06</td>\n      <td>15.04</td>\n      <td>5.68</td>\n      <td>...</td>\n      <td>5.67</td>\n      <td>6.86</td>\n      <td>3.21</td>\n      <td>7.99</td>\n      <td>38.84</td>\n      <td>5.54</td>\n      <td>5.04</td>\n      <td>9.35</td>\n      <td>4.74</td>\n      <td>14.62</td>\n    </tr>\n    <tr>\n      <th>2023-01-09</th>\n      <td>1230.89</td>\n      <td>14.80</td>\n      <td>1.25</td>\n      <td>4.03</td>\n      <td>2.27</td>\n      <td>3.91</td>\n      <td>11.00</td>\n      <td>3.24</td>\n      <td>15.15</td>\n      <td>5.66</td>\n      <td>...</td>\n      <td>5.63</td>\n      <td>6.85</td>\n      <td>3.19</td>\n      <td>8.06</td>\n      <td>38.97</td>\n      <td>5.53</td>\n      <td>5.08</td>\n      <td>9.44</td>\n      <td>4.78</td>\n      <td>14.80</td>\n    </tr>\n    <tr>\n      <th>...</th>\n      <td>...</td>\n      <td>...</td>\n      <td>...</td>\n      <td>...</td>\n      <td>...</td>\n      <td>...</td>\n      <td>...</td>\n      <td>...</td>\n      <td>...</td>\n      <td>...</td>\n      <td>...</td>\n      <td>...</td>\n      <td>...</td>\n      <td>...</td>\n      <td>...</td>\n      <td>...</td>\n      <td>...</td>\n      <td>...</td>\n      <td>...</td>\n      <td>...</td>\n      <td>...</td>\n    </tr>\n    <tr>\n      <th>2023-07-26</th>\n      <td>1169.72</td>\n      <td>11.67</td>\n      <td>1.32</td>\n      <td>4.83</td>\n      <td>2.29</td>\n      <td>2.22</td>\n      <td>11.44</td>\n      <td>3.19</td>\n      <td>13.07</td>\n      <td>7.05</td>\n      <td>...</td>\n      <td>5.94</td>\n      <td>8.14</td>\n      <td>3.79</td>\n      <td>8.40</td>\n      <td>37.50</td>\n      <td>5.38</td>\n      <td>5.78</td>\n      <td>12.88</td>\n      <td>4.35</td>\n      <td>11.67</td>\n    </tr>\n    <tr>\n      <th>2023-07-27</th>\n      <td>1165.15</td>\n      <td>11.75</td>\n      <td>1.29</td>\n      <td>4.80</td>\n      <td>2.29</td>\n      <td>2.19</td>\n      <td>11.33</td>\n      <td>3.17</td>\n      <td>13.01</td>\n      <td>7.05</td>\n      <td>...</td>\n      <td>6.05</td>\n      <td>8.14</td>\n      <td>3.82</td>\n      <td>8.32</td>\n      <td>37.15</td>\n      <td>5.41</td>\n      <td>5.87</td>\n      <td>12.51</td>\n      <td>4.37</td>\n      <td>11.75</td>\n    </tr>\n    <tr>\n      <th>2023-07-28</th>\n      <td>1246.71</td>\n      <td>12.26</td>\n      <td>1.35</td>\n      <td>5.09</td>\n      <td>2.39</td>\n      <td>2.23</td>\n      <td>11.71</td>\n      <td>3.36</td>\n      <td>13.23</td>\n      <td>7.34</td>\n      <td>...</td>\n      <td>6.15</td>\n      <td>8.30</td>\n      <td>3.91</td>\n      <td>8.75</td>\n      <td>39.95</td>\n      <td>5.57</td>\n      <td>6.06</td>\n      <td>13.39</td>\n      <td>4.51</td>\n      <td>12.26</td>\n    </tr>\n    <tr>\n      <th>2023-07-31</th>\n      <td>1253.83</td>\n      <td>12.32</td>\n      <td>1.42</td>\n      <td>5.04</td>\n      <td>2.44</td>\n      <td>2.34</td>\n      <td>11.80</td>\n      <td>3.42</td>\n      <td>13.17</td>\n      <td>7.40</td>\n      <td>...</td>\n      <td>6.16</td>\n      <td>8.28</td>\n      <td>3.91</td>\n      <td>8.73</td>\n      <td>39.91</td>\n      <td>5.68</td>\n      <td>6.01</td>\n      <td>13.73</td>\n      <td>4.61</td>\n      <td>12.32</td>\n    </tr>\n    <tr>\n      <th>2023-08-01</th>\n      <td>1238.79</td>\n      <td>12.16</td>\n      <td>1.43</td>\n      <td>5.00</td>\n      <td>2.49</td>\n      <td>2.33</td>\n      <td>11.76</td>\n      <td>3.39</td>\n      <td>13.10</td>\n      <td>7.28</td>\n      <td>...</td>\n      <td>6.17</td>\n      <td>8.27</td>\n      <td>3.93</td>\n      <td>8.76</td>\n      <td>39.42</td>\n      <td>5.74</td>\n      <td>6.03</td>\n      <td>14.07</td>\n      <td>4.60</td>\n      <td>12.16</td>\n    </tr>\n  </tbody>\n</table>\n<p>140 rows × 132 columns</p>\n</div>"
     },
     "execution_count": 9,
     "metadata": {},
     "output_type": "execute_result"
    }
   ],
   "source": [
    "df = _\n",
    "df #去掉缺失值共131个特征变量"
   ],
   "metadata": {
    "collapsed": false,
    "ExecuteTime": {
     "start_time": "2023-08-03T20:56:19.674339Z",
     "end_time": "2023-08-03T20:56:19.688025Z"
    }
   }
  },
  {
   "cell_type": "markdown",
   "source": [
    "线性回归"
   ],
   "metadata": {
    "collapsed": false
   }
  },
  {
   "cell_type": "code",
   "execution_count": 58,
   "outputs": [
    {
     "data": {
      "text/plain": "               X1    X2    X3    X4    X5     X6    X7     X8    X9   X10  \\\ntrade_date                                                                  \n2023-01-03  13.77  1.26  3.98  2.23  3.88  11.00  3.05  14.25  5.73  3.19   \n2023-01-04  14.32  1.31  3.99  2.25  3.94  11.02  3.08  14.60  5.66  3.23   \n2023-01-05  14.48  1.29  4.02  2.25  3.92  11.10  3.07  15.15  5.70  3.26   \n2023-01-06  14.62  1.26  4.01  2.23  3.84  10.86  3.06  15.04  5.68  3.20   \n2023-01-09  14.80  1.25  4.03  2.27  3.91  11.00  3.24  15.15  5.66  3.25   \n...           ...   ...   ...   ...   ...    ...   ...    ...   ...   ...   \n2023-07-26  11.67  1.32  4.83  2.29  2.22  11.44  3.19  13.07  7.05  3.24   \n2023-07-27  11.75  1.29  4.80  2.29  2.19  11.33  3.17  13.01  7.05  3.22   \n2023-07-28  12.26  1.35  5.09  2.39  2.23  11.71  3.36  13.23  7.34  3.38   \n2023-07-31  12.32  1.42  5.04  2.44  2.34  11.80  3.42  13.17  7.40  3.42   \n2023-08-01  12.16  1.43  5.00  2.49  2.33  11.76  3.39  13.10  7.28  3.46   \n\n            ...  X123  X124  X125  X126   X127  X128  X129   X130  X131   X132  \ntrade_date  ...                                                                 \n2023-01-03  ...  5.63  6.82  3.16  7.98  38.40  5.49  4.98   9.23  4.69  13.77  \n2023-01-04  ...  5.68  6.88  3.20  7.96  38.22  5.57  5.09   9.27  4.80  14.32  \n2023-01-05  ...  5.68  6.90  3.20  8.05  38.58  5.55  5.04   9.38  4.78  14.48  \n2023-01-06  ...  5.67  6.86  3.21  7.99  38.84  5.54  5.04   9.35  4.74  14.62  \n2023-01-09  ...  5.63  6.85  3.19  8.06  38.97  5.53  5.08   9.44  4.78  14.80  \n...         ...   ...   ...   ...   ...    ...   ...   ...    ...   ...    ...  \n2023-07-26  ...  5.94  8.14  3.79  8.40  37.50  5.38  5.78  12.88  4.35  11.67  \n2023-07-27  ...  6.05  8.14  3.82  8.32  37.15  5.41  5.87  12.51  4.37  11.75  \n2023-07-28  ...  6.15  8.30  3.91  8.75  39.95  5.57  6.06  13.39  4.51  12.26  \n2023-07-31  ...  6.16  8.28  3.91  8.73  39.91  5.68  6.01  13.73  4.61  12.32  \n2023-08-01  ...  6.17  8.27  3.93  8.76  39.42  5.74  6.03  14.07  4.60  12.16  \n\n[140 rows x 131 columns]",
      "text/html": "<div>\n<style scoped>\n    .dataframe tbody tr th:only-of-type {\n        vertical-align: middle;\n    }\n\n    .dataframe tbody tr th {\n        vertical-align: top;\n    }\n\n    .dataframe thead th {\n        text-align: right;\n    }\n</style>\n<table border=\"1\" class=\"dataframe\">\n  <thead>\n    <tr style=\"text-align: right;\">\n      <th></th>\n      <th>X1</th>\n      <th>X2</th>\n      <th>X3</th>\n      <th>X4</th>\n      <th>X5</th>\n      <th>X6</th>\n      <th>X7</th>\n      <th>X8</th>\n      <th>X9</th>\n      <th>X10</th>\n      <th>...</th>\n      <th>X123</th>\n      <th>X124</th>\n      <th>X125</th>\n      <th>X126</th>\n      <th>X127</th>\n      <th>X128</th>\n      <th>X129</th>\n      <th>X130</th>\n      <th>X131</th>\n      <th>X132</th>\n    </tr>\n    <tr>\n      <th>trade_date</th>\n      <th></th>\n      <th></th>\n      <th></th>\n      <th></th>\n      <th></th>\n      <th></th>\n      <th></th>\n      <th></th>\n      <th></th>\n      <th></th>\n      <th></th>\n      <th></th>\n      <th></th>\n      <th></th>\n      <th></th>\n      <th></th>\n      <th></th>\n      <th></th>\n      <th></th>\n      <th></th>\n      <th></th>\n    </tr>\n  </thead>\n  <tbody>\n    <tr>\n      <th>2023-01-03</th>\n      <td>13.77</td>\n      <td>1.26</td>\n      <td>3.98</td>\n      <td>2.23</td>\n      <td>3.88</td>\n      <td>11.00</td>\n      <td>3.05</td>\n      <td>14.25</td>\n      <td>5.73</td>\n      <td>3.19</td>\n      <td>...</td>\n      <td>5.63</td>\n      <td>6.82</td>\n      <td>3.16</td>\n      <td>7.98</td>\n      <td>38.40</td>\n      <td>5.49</td>\n      <td>4.98</td>\n      <td>9.23</td>\n      <td>4.69</td>\n      <td>13.77</td>\n    </tr>\n    <tr>\n      <th>2023-01-04</th>\n      <td>14.32</td>\n      <td>1.31</td>\n      <td>3.99</td>\n      <td>2.25</td>\n      <td>3.94</td>\n      <td>11.02</td>\n      <td>3.08</td>\n      <td>14.60</td>\n      <td>5.66</td>\n      <td>3.23</td>\n      <td>...</td>\n      <td>5.68</td>\n      <td>6.88</td>\n      <td>3.20</td>\n      <td>7.96</td>\n      <td>38.22</td>\n      <td>5.57</td>\n      <td>5.09</td>\n      <td>9.27</td>\n      <td>4.80</td>\n      <td>14.32</td>\n    </tr>\n    <tr>\n      <th>2023-01-05</th>\n      <td>14.48</td>\n      <td>1.29</td>\n      <td>4.02</td>\n      <td>2.25</td>\n      <td>3.92</td>\n      <td>11.10</td>\n      <td>3.07</td>\n      <td>15.15</td>\n      <td>5.70</td>\n      <td>3.26</td>\n      <td>...</td>\n      <td>5.68</td>\n      <td>6.90</td>\n      <td>3.20</td>\n      <td>8.05</td>\n      <td>38.58</td>\n      <td>5.55</td>\n      <td>5.04</td>\n      <td>9.38</td>\n      <td>4.78</td>\n      <td>14.48</td>\n    </tr>\n    <tr>\n      <th>2023-01-06</th>\n      <td>14.62</td>\n      <td>1.26</td>\n      <td>4.01</td>\n      <td>2.23</td>\n      <td>3.84</td>\n      <td>10.86</td>\n      <td>3.06</td>\n      <td>15.04</td>\n      <td>5.68</td>\n      <td>3.20</td>\n      <td>...</td>\n      <td>5.67</td>\n      <td>6.86</td>\n      <td>3.21</td>\n      <td>7.99</td>\n      <td>38.84</td>\n      <td>5.54</td>\n      <td>5.04</td>\n      <td>9.35</td>\n      <td>4.74</td>\n      <td>14.62</td>\n    </tr>\n    <tr>\n      <th>2023-01-09</th>\n      <td>14.80</td>\n      <td>1.25</td>\n      <td>4.03</td>\n      <td>2.27</td>\n      <td>3.91</td>\n      <td>11.00</td>\n      <td>3.24</td>\n      <td>15.15</td>\n      <td>5.66</td>\n      <td>3.25</td>\n      <td>...</td>\n      <td>5.63</td>\n      <td>6.85</td>\n      <td>3.19</td>\n      <td>8.06</td>\n      <td>38.97</td>\n      <td>5.53</td>\n      <td>5.08</td>\n      <td>9.44</td>\n      <td>4.78</td>\n      <td>14.80</td>\n    </tr>\n    <tr>\n      <th>...</th>\n      <td>...</td>\n      <td>...</td>\n      <td>...</td>\n      <td>...</td>\n      <td>...</td>\n      <td>...</td>\n      <td>...</td>\n      <td>...</td>\n      <td>...</td>\n      <td>...</td>\n      <td>...</td>\n      <td>...</td>\n      <td>...</td>\n      <td>...</td>\n      <td>...</td>\n      <td>...</td>\n      <td>...</td>\n      <td>...</td>\n      <td>...</td>\n      <td>...</td>\n      <td>...</td>\n    </tr>\n    <tr>\n      <th>2023-07-26</th>\n      <td>11.67</td>\n      <td>1.32</td>\n      <td>4.83</td>\n      <td>2.29</td>\n      <td>2.22</td>\n      <td>11.44</td>\n      <td>3.19</td>\n      <td>13.07</td>\n      <td>7.05</td>\n      <td>3.24</td>\n      <td>...</td>\n      <td>5.94</td>\n      <td>8.14</td>\n      <td>3.79</td>\n      <td>8.40</td>\n      <td>37.50</td>\n      <td>5.38</td>\n      <td>5.78</td>\n      <td>12.88</td>\n      <td>4.35</td>\n      <td>11.67</td>\n    </tr>\n    <tr>\n      <th>2023-07-27</th>\n      <td>11.75</td>\n      <td>1.29</td>\n      <td>4.80</td>\n      <td>2.29</td>\n      <td>2.19</td>\n      <td>11.33</td>\n      <td>3.17</td>\n      <td>13.01</td>\n      <td>7.05</td>\n      <td>3.22</td>\n      <td>...</td>\n      <td>6.05</td>\n      <td>8.14</td>\n      <td>3.82</td>\n      <td>8.32</td>\n      <td>37.15</td>\n      <td>5.41</td>\n      <td>5.87</td>\n      <td>12.51</td>\n      <td>4.37</td>\n      <td>11.75</td>\n    </tr>\n    <tr>\n      <th>2023-07-28</th>\n      <td>12.26</td>\n      <td>1.35</td>\n      <td>5.09</td>\n      <td>2.39</td>\n      <td>2.23</td>\n      <td>11.71</td>\n      <td>3.36</td>\n      <td>13.23</td>\n      <td>7.34</td>\n      <td>3.38</td>\n      <td>...</td>\n      <td>6.15</td>\n      <td>8.30</td>\n      <td>3.91</td>\n      <td>8.75</td>\n      <td>39.95</td>\n      <td>5.57</td>\n      <td>6.06</td>\n      <td>13.39</td>\n      <td>4.51</td>\n      <td>12.26</td>\n    </tr>\n    <tr>\n      <th>2023-07-31</th>\n      <td>12.32</td>\n      <td>1.42</td>\n      <td>5.04</td>\n      <td>2.44</td>\n      <td>2.34</td>\n      <td>11.80</td>\n      <td>3.42</td>\n      <td>13.17</td>\n      <td>7.40</td>\n      <td>3.42</td>\n      <td>...</td>\n      <td>6.16</td>\n      <td>8.28</td>\n      <td>3.91</td>\n      <td>8.73</td>\n      <td>39.91</td>\n      <td>5.68</td>\n      <td>6.01</td>\n      <td>13.73</td>\n      <td>4.61</td>\n      <td>12.32</td>\n    </tr>\n    <tr>\n      <th>2023-08-01</th>\n      <td>12.16</td>\n      <td>1.43</td>\n      <td>5.00</td>\n      <td>2.49</td>\n      <td>2.33</td>\n      <td>11.76</td>\n      <td>3.39</td>\n      <td>13.10</td>\n      <td>7.28</td>\n      <td>3.46</td>\n      <td>...</td>\n      <td>6.17</td>\n      <td>8.27</td>\n      <td>3.93</td>\n      <td>8.76</td>\n      <td>39.42</td>\n      <td>5.74</td>\n      <td>6.03</td>\n      <td>14.07</td>\n      <td>4.60</td>\n      <td>12.16</td>\n    </tr>\n  </tbody>\n</table>\n<p>140 rows × 131 columns</p>\n</div>"
     },
     "execution_count": 58,
     "metadata": {},
     "output_type": "execute_result"
    }
   ],
   "source": [
    "x = df.iloc[:,1:]\n",
    "x"
   ],
   "metadata": {
    "collapsed": false,
    "ExecuteTime": {
     "start_time": "2023-08-03T22:15:23.664830Z",
     "end_time": "2023-08-03T22:15:23.689025Z"
    }
   }
  },
  {
   "cell_type": "code",
   "execution_count": 59,
   "outputs": [
    {
     "data": {
      "text/plain": "trade_date\n2023-01-03    1174.09\n2023-01-04    1191.31\n2023-01-05    1212.45\n2023-01-06    1210.68\n2023-01-09    1230.89\n               ...   \n2023-07-26    1169.72\n2023-07-27    1165.15\n2023-07-28    1246.71\n2023-07-31    1253.83\n2023-08-01    1238.79\nName: Y, Length: 140, dtype: float64"
     },
     "execution_count": 59,
     "metadata": {},
     "output_type": "execute_result"
    }
   ],
   "source": [
    "y = df.loc[:,'Y']\n",
    "y"
   ],
   "metadata": {
    "collapsed": false,
    "ExecuteTime": {
     "start_time": "2023-08-03T22:15:26.183437Z",
     "end_time": "2023-08-03T22:15:26.222942Z"
    }
   }
  },
  {
   "cell_type": "code",
   "execution_count": 83,
   "outputs": [
    {
     "data": {
      "text/plain": "            const     X1    X2    X3    X4    X5     X6    X7     X8    X9  \\\ntrade_date                                                                   \n2023-01-03    1.0  13.77  1.26  3.98  2.23  3.88  11.00  3.05  14.25  5.73   \n2023-01-04    1.0  14.32  1.31  3.99  2.25  3.94  11.02  3.08  14.60  5.66   \n2023-01-05    1.0  14.48  1.29  4.02  2.25  3.92  11.10  3.07  15.15  5.70   \n2023-01-06    1.0  14.62  1.26  4.01  2.23  3.84  10.86  3.06  15.04  5.68   \n2023-01-09    1.0  14.80  1.25  4.03  2.27  3.91  11.00  3.24  15.15  5.66   \n...           ...    ...   ...   ...   ...   ...    ...   ...    ...   ...   \n2023-07-26    1.0  11.67  1.32  4.83  2.29  2.22  11.44  3.19  13.07  7.05   \n2023-07-27    1.0  11.75  1.29  4.80  2.29  2.19  11.33  3.17  13.01  7.05   \n2023-07-28    1.0  12.26  1.35  5.09  2.39  2.23  11.71  3.36  13.23  7.34   \n2023-07-31    1.0  12.32  1.42  5.04  2.44  2.34  11.80  3.42  13.17  7.40   \n2023-08-01    1.0  12.16  1.43  5.00  2.49  2.33  11.76  3.39  13.10  7.28   \n\n            ...  X123  X124  X125  X126   X127  X128  X129   X130  X131   X132  \ntrade_date  ...                                                                 \n2023-01-03  ...  5.63  6.82  3.16  7.98  38.40  5.49  4.98   9.23  4.69  13.77  \n2023-01-04  ...  5.68  6.88  3.20  7.96  38.22  5.57  5.09   9.27  4.80  14.32  \n2023-01-05  ...  5.68  6.90  3.20  8.05  38.58  5.55  5.04   9.38  4.78  14.48  \n2023-01-06  ...  5.67  6.86  3.21  7.99  38.84  5.54  5.04   9.35  4.74  14.62  \n2023-01-09  ...  5.63  6.85  3.19  8.06  38.97  5.53  5.08   9.44  4.78  14.80  \n...         ...   ...   ...   ...   ...    ...   ...   ...    ...   ...    ...  \n2023-07-26  ...  5.94  8.14  3.79  8.40  37.50  5.38  5.78  12.88  4.35  11.67  \n2023-07-27  ...  6.05  8.14  3.82  8.32  37.15  5.41  5.87  12.51  4.37  11.75  \n2023-07-28  ...  6.15  8.30  3.91  8.75  39.95  5.57  6.06  13.39  4.51  12.26  \n2023-07-31  ...  6.16  8.28  3.91  8.73  39.91  5.68  6.01  13.73  4.61  12.32  \n2023-08-01  ...  6.17  8.27  3.93  8.76  39.42  5.74  6.03  14.07  4.60  12.16  \n\n[140 rows x 132 columns]",
      "text/html": "<div>\n<style scoped>\n    .dataframe tbody tr th:only-of-type {\n        vertical-align: middle;\n    }\n\n    .dataframe tbody tr th {\n        vertical-align: top;\n    }\n\n    .dataframe thead th {\n        text-align: right;\n    }\n</style>\n<table border=\"1\" class=\"dataframe\">\n  <thead>\n    <tr style=\"text-align: right;\">\n      <th></th>\n      <th>const</th>\n      <th>X1</th>\n      <th>X2</th>\n      <th>X3</th>\n      <th>X4</th>\n      <th>X5</th>\n      <th>X6</th>\n      <th>X7</th>\n      <th>X8</th>\n      <th>X9</th>\n      <th>...</th>\n      <th>X123</th>\n      <th>X124</th>\n      <th>X125</th>\n      <th>X126</th>\n      <th>X127</th>\n      <th>X128</th>\n      <th>X129</th>\n      <th>X130</th>\n      <th>X131</th>\n      <th>X132</th>\n    </tr>\n    <tr>\n      <th>trade_date</th>\n      <th></th>\n      <th></th>\n      <th></th>\n      <th></th>\n      <th></th>\n      <th></th>\n      <th></th>\n      <th></th>\n      <th></th>\n      <th></th>\n      <th></th>\n      <th></th>\n      <th></th>\n      <th></th>\n      <th></th>\n      <th></th>\n      <th></th>\n      <th></th>\n      <th></th>\n      <th></th>\n      <th></th>\n    </tr>\n  </thead>\n  <tbody>\n    <tr>\n      <th>2023-01-03</th>\n      <td>1.0</td>\n      <td>13.77</td>\n      <td>1.26</td>\n      <td>3.98</td>\n      <td>2.23</td>\n      <td>3.88</td>\n      <td>11.00</td>\n      <td>3.05</td>\n      <td>14.25</td>\n      <td>5.73</td>\n      <td>...</td>\n      <td>5.63</td>\n      <td>6.82</td>\n      <td>3.16</td>\n      <td>7.98</td>\n      <td>38.40</td>\n      <td>5.49</td>\n      <td>4.98</td>\n      <td>9.23</td>\n      <td>4.69</td>\n      <td>13.77</td>\n    </tr>\n    <tr>\n      <th>2023-01-04</th>\n      <td>1.0</td>\n      <td>14.32</td>\n      <td>1.31</td>\n      <td>3.99</td>\n      <td>2.25</td>\n      <td>3.94</td>\n      <td>11.02</td>\n      <td>3.08</td>\n      <td>14.60</td>\n      <td>5.66</td>\n      <td>...</td>\n      <td>5.68</td>\n      <td>6.88</td>\n      <td>3.20</td>\n      <td>7.96</td>\n      <td>38.22</td>\n      <td>5.57</td>\n      <td>5.09</td>\n      <td>9.27</td>\n      <td>4.80</td>\n      <td>14.32</td>\n    </tr>\n    <tr>\n      <th>2023-01-05</th>\n      <td>1.0</td>\n      <td>14.48</td>\n      <td>1.29</td>\n      <td>4.02</td>\n      <td>2.25</td>\n      <td>3.92</td>\n      <td>11.10</td>\n      <td>3.07</td>\n      <td>15.15</td>\n      <td>5.70</td>\n      <td>...</td>\n      <td>5.68</td>\n      <td>6.90</td>\n      <td>3.20</td>\n      <td>8.05</td>\n      <td>38.58</td>\n      <td>5.55</td>\n      <td>5.04</td>\n      <td>9.38</td>\n      <td>4.78</td>\n      <td>14.48</td>\n    </tr>\n    <tr>\n      <th>2023-01-06</th>\n      <td>1.0</td>\n      <td>14.62</td>\n      <td>1.26</td>\n      <td>4.01</td>\n      <td>2.23</td>\n      <td>3.84</td>\n      <td>10.86</td>\n      <td>3.06</td>\n      <td>15.04</td>\n      <td>5.68</td>\n      <td>...</td>\n      <td>5.67</td>\n      <td>6.86</td>\n      <td>3.21</td>\n      <td>7.99</td>\n      <td>38.84</td>\n      <td>5.54</td>\n      <td>5.04</td>\n      <td>9.35</td>\n      <td>4.74</td>\n      <td>14.62</td>\n    </tr>\n    <tr>\n      <th>2023-01-09</th>\n      <td>1.0</td>\n      <td>14.80</td>\n      <td>1.25</td>\n      <td>4.03</td>\n      <td>2.27</td>\n      <td>3.91</td>\n      <td>11.00</td>\n      <td>3.24</td>\n      <td>15.15</td>\n      <td>5.66</td>\n      <td>...</td>\n      <td>5.63</td>\n      <td>6.85</td>\n      <td>3.19</td>\n      <td>8.06</td>\n      <td>38.97</td>\n      <td>5.53</td>\n      <td>5.08</td>\n      <td>9.44</td>\n      <td>4.78</td>\n      <td>14.80</td>\n    </tr>\n    <tr>\n      <th>...</th>\n      <td>...</td>\n      <td>...</td>\n      <td>...</td>\n      <td>...</td>\n      <td>...</td>\n      <td>...</td>\n      <td>...</td>\n      <td>...</td>\n      <td>...</td>\n      <td>...</td>\n      <td>...</td>\n      <td>...</td>\n      <td>...</td>\n      <td>...</td>\n      <td>...</td>\n      <td>...</td>\n      <td>...</td>\n      <td>...</td>\n      <td>...</td>\n      <td>...</td>\n      <td>...</td>\n    </tr>\n    <tr>\n      <th>2023-07-26</th>\n      <td>1.0</td>\n      <td>11.67</td>\n      <td>1.32</td>\n      <td>4.83</td>\n      <td>2.29</td>\n      <td>2.22</td>\n      <td>11.44</td>\n      <td>3.19</td>\n      <td>13.07</td>\n      <td>7.05</td>\n      <td>...</td>\n      <td>5.94</td>\n      <td>8.14</td>\n      <td>3.79</td>\n      <td>8.40</td>\n      <td>37.50</td>\n      <td>5.38</td>\n      <td>5.78</td>\n      <td>12.88</td>\n      <td>4.35</td>\n      <td>11.67</td>\n    </tr>\n    <tr>\n      <th>2023-07-27</th>\n      <td>1.0</td>\n      <td>11.75</td>\n      <td>1.29</td>\n      <td>4.80</td>\n      <td>2.29</td>\n      <td>2.19</td>\n      <td>11.33</td>\n      <td>3.17</td>\n      <td>13.01</td>\n      <td>7.05</td>\n      <td>...</td>\n      <td>6.05</td>\n      <td>8.14</td>\n      <td>3.82</td>\n      <td>8.32</td>\n      <td>37.15</td>\n      <td>5.41</td>\n      <td>5.87</td>\n      <td>12.51</td>\n      <td>4.37</td>\n      <td>11.75</td>\n    </tr>\n    <tr>\n      <th>2023-07-28</th>\n      <td>1.0</td>\n      <td>12.26</td>\n      <td>1.35</td>\n      <td>5.09</td>\n      <td>2.39</td>\n      <td>2.23</td>\n      <td>11.71</td>\n      <td>3.36</td>\n      <td>13.23</td>\n      <td>7.34</td>\n      <td>...</td>\n      <td>6.15</td>\n      <td>8.30</td>\n      <td>3.91</td>\n      <td>8.75</td>\n      <td>39.95</td>\n      <td>5.57</td>\n      <td>6.06</td>\n      <td>13.39</td>\n      <td>4.51</td>\n      <td>12.26</td>\n    </tr>\n    <tr>\n      <th>2023-07-31</th>\n      <td>1.0</td>\n      <td>12.32</td>\n      <td>1.42</td>\n      <td>5.04</td>\n      <td>2.44</td>\n      <td>2.34</td>\n      <td>11.80</td>\n      <td>3.42</td>\n      <td>13.17</td>\n      <td>7.40</td>\n      <td>...</td>\n      <td>6.16</td>\n      <td>8.28</td>\n      <td>3.91</td>\n      <td>8.73</td>\n      <td>39.91</td>\n      <td>5.68</td>\n      <td>6.01</td>\n      <td>13.73</td>\n      <td>4.61</td>\n      <td>12.32</td>\n    </tr>\n    <tr>\n      <th>2023-08-01</th>\n      <td>1.0</td>\n      <td>12.16</td>\n      <td>1.43</td>\n      <td>5.00</td>\n      <td>2.49</td>\n      <td>2.33</td>\n      <td>11.76</td>\n      <td>3.39</td>\n      <td>13.10</td>\n      <td>7.28</td>\n      <td>...</td>\n      <td>6.17</td>\n      <td>8.27</td>\n      <td>3.93</td>\n      <td>8.76</td>\n      <td>39.42</td>\n      <td>5.74</td>\n      <td>6.03</td>\n      <td>14.07</td>\n      <td>4.60</td>\n      <td>12.16</td>\n    </tr>\n  </tbody>\n</table>\n<p>140 rows × 132 columns</p>\n</div>"
     },
     "execution_count": 83,
     "metadata": {},
     "output_type": "execute_result"
    }
   ],
   "source": [
    "x = sm.add_constant(x) #构建有常数项的线性回归模型\n",
    "x"
   ],
   "metadata": {
    "collapsed": false,
    "ExecuteTime": {
     "start_time": "2023-08-03T22:32:57.478818Z",
     "end_time": "2023-08-03T22:32:57.496426Z"
    }
   }
  },
  {
   "cell_type": "code",
   "execution_count": 84,
   "outputs": [],
   "source": [
    "model = sm.OLS(y, x) # 构建最小二乘模型并拟合\n",
    "results = model.fit() #回归分析结果\n"
   ],
   "metadata": {
    "collapsed": false,
    "ExecuteTime": {
     "start_time": "2023-08-03T22:33:00.007131Z",
     "end_time": "2023-08-03T22:33:00.056820Z"
    }
   }
  },
  {
   "cell_type": "code",
   "execution_count": 85,
   "outputs": [
    {
     "name": "stdout",
     "output_type": "stream",
     "text": [
      "                            OLS Regression Results                            \n",
      "==============================================================================\n",
      "Dep. Variable:                      Y   R-squared:                       1.000\n",
      "Model:                            OLS   Adj. R-squared:                  0.998\n",
      "Method:                 Least Squares   F-statistic:                     652.7\n",
      "Date:                Thu, 03 Aug 2023   Prob (F-statistic):           4.01e-12\n",
      "Time:                        22:33:02   Log-Likelihood:                -117.90\n",
      "No. Observations:                 140   AIC:                             497.8\n",
      "Df Residuals:                       9   BIC:                             883.1\n",
      "Df Model:                         130                                         \n",
      "Covariance Type:            nonrobust                                         \n",
      "==============================================================================\n",
      "                 coef    std err          t      P>|t|      [0.025      0.975]\n",
      "------------------------------------------------------------------------------\n",
      "const         76.9983    193.093      0.399      0.699    -359.809     513.806\n",
      "X1             2.9975      5.991      0.500      0.629     -10.555      16.550\n",
      "X2           -51.1549     48.375     -1.057      0.318    -160.586      58.277\n",
      "X3           -37.1052     30.584     -1.213      0.256    -106.291      32.080\n",
      "X4            33.4137     56.287      0.594      0.567     -93.915     160.743\n",
      "X5           -31.4150     21.521     -1.460      0.178     -80.098      17.268\n",
      "X6           -24.6305      6.907     -3.566      0.006     -40.254      -9.007\n",
      "X7             2.5048     43.216      0.058      0.955     -95.256     100.266\n",
      "X8             0.3348      1.474      0.227      0.825      -3.001       3.670\n",
      "X9            -2.3564      4.249     -0.555      0.593     -11.967       7.255\n",
      "X10          -21.7521     41.013     -0.530      0.609    -114.529      71.025\n",
      "X11            3.0902      4.354      0.710      0.496      -6.759      12.939\n",
      "X12            9.4615     14.491      0.653      0.530     -23.319      42.242\n",
      "X13           11.5321      5.079      2.271      0.049       0.043      23.021\n",
      "X14           33.9770     56.640      0.600      0.563     -94.152     162.106\n",
      "X15           34.5637     46.315      0.746      0.475     -70.208     139.336\n",
      "X16           11.0026      8.021      1.372      0.203      -7.143      29.148\n",
      "X17            9.9771     36.536      0.273      0.791     -72.673      92.627\n",
      "X18          -21.2550     24.033     -0.884      0.399     -75.621      33.111\n",
      "X19           34.4445     21.551      1.598      0.144     -14.308      83.196\n",
      "X20          -15.9757     40.133     -0.398      0.700    -106.762      74.811\n",
      "X21            0.0253      2.421      0.010      0.992      -5.452       5.503\n",
      "X22            9.0969      4.115      2.211      0.054      -0.212      18.406\n",
      "X23           -2.8173      6.625     -0.425      0.681     -17.804      12.169\n",
      "X24           -0.7519      4.786     -0.157      0.879     -11.580      10.076\n",
      "X25          -45.7688     35.603     -1.286      0.231    -126.309      34.772\n",
      "X26           -5.6332     12.575     -0.448      0.665     -34.080      22.813\n",
      "X27            2.3638      7.900      0.299      0.772     -15.508      20.235\n",
      "X28          126.3570     36.414      3.470      0.007      43.984     208.731\n",
      "X29           28.6534     28.900      0.991      0.347     -36.722      94.029\n",
      "X30          -32.5373     64.843     -0.502      0.628    -179.223     114.148\n",
      "X31           19.1190     31.520      0.607      0.559     -52.185      90.423\n",
      "X32          -30.7965     39.809     -0.774      0.459    -120.851      59.258\n",
      "X33          -15.1832     23.792     -0.638      0.539     -69.004      38.638\n",
      "X34           40.1352     48.250      0.832      0.427     -69.014     149.284\n",
      "X35           16.5858     16.777      0.989      0.349     -21.368      54.539\n",
      "X36            8.4500      5.898      1.433      0.186      -4.892      21.792\n",
      "X37         -130.5242     70.971     -1.839      0.099    -291.071      30.022\n",
      "X38          226.9189     87.885      2.582      0.030      28.108     425.730\n",
      "X39           12.7562      7.426      1.718      0.120      -4.042      29.555\n",
      "X40          -18.9228     17.470     -1.083      0.307     -58.442      20.596\n",
      "X41           12.4530      2.072      6.009      0.000       7.765      17.141\n",
      "X42           -2.7450     12.340     -0.222      0.829     -30.661      25.171\n",
      "X43           18.3175     24.534      0.747      0.474     -37.182      73.817\n",
      "X44           33.6381     30.930      1.088      0.305     -36.331     103.607\n",
      "X45           75.5444     31.041      2.434      0.038       5.325     145.764\n",
      "X46           16.0851      9.843      1.634      0.137      -6.181      38.351\n",
      "X47           -4.7822      2.601     -1.838      0.099     -10.667       1.103\n",
      "X48            7.2404      4.757      1.522      0.162      -3.520      18.001\n",
      "X49          -13.2297     21.464     -0.616      0.553     -61.784      35.325\n",
      "X50           -3.8939      3.529     -1.103      0.299     -11.878       4.090\n",
      "X51          -42.9670     15.557     -2.762      0.022     -78.159      -7.774\n",
      "X52           25.3115     26.181      0.967      0.359     -33.915      84.538\n",
      "X53          -42.6517     40.030     -1.065      0.314    -133.206      47.902\n",
      "X54          -29.5400     15.593     -1.894      0.091     -64.814       5.734\n",
      "X55           27.9875     16.735      1.672      0.129      -9.870      65.845\n",
      "X56           34.3575     40.728      0.844      0.421     -57.776     126.491\n",
      "X57           24.9204     35.380      0.704      0.499     -55.115     104.956\n",
      "X58           -8.4865      7.373     -1.151      0.279     -25.165       8.192\n",
      "X59           -9.6791     35.388     -0.274      0.791     -89.731      70.373\n",
      "X60          -19.7548     50.296     -0.393      0.704    -133.533      94.023\n",
      "X61           -2.9643      9.256     -0.320      0.756     -23.903      17.975\n",
      "X62            9.1597      7.484      1.224      0.252      -7.770      26.089\n",
      "X63           84.8229     53.960      1.572      0.150     -37.242     206.888\n",
      "X64          -24.8365     12.553     -1.979      0.079     -53.233       3.560\n",
      "X65           63.8099     23.097      2.763      0.022      11.560     116.060\n",
      "X66          -30.7451     24.953     -1.232      0.249     -87.192      25.702\n",
      "X67          -15.7798     12.398     -1.273      0.235     -43.827      12.267\n",
      "X68          -92.2905     56.400     -1.636      0.136    -219.875      35.294\n",
      "X69            4.4038      8.618      0.511      0.622     -15.091      23.899\n",
      "X70          -40.6579     16.494     -2.465      0.036     -77.970      -3.346\n",
      "X71           -3.9869     33.642     -0.119      0.908     -80.091      72.117\n",
      "X72           -6.1139     44.871     -0.136      0.895    -107.620      95.392\n",
      "X73          -68.2989     20.017     -3.412      0.008    -113.580     -23.018\n",
      "X74          103.5873     26.646      3.888      0.004      43.311     163.864\n",
      "X75           -4.6906      9.970     -0.470      0.649     -27.245      17.863\n",
      "X76           -6.8662     11.640     -0.590      0.570     -33.199      19.466\n",
      "X77           19.3241     16.139      1.197      0.262     -17.185      55.833\n",
      "X78           -5.0181      7.519     -0.667      0.521     -22.028      11.992\n",
      "X79          -10.7161     19.363     -0.553      0.593     -54.518      33.085\n",
      "X80            1.1821     16.165      0.073      0.943     -35.385      37.750\n",
      "X82           -2.5390      7.922     -0.320      0.756     -20.460      15.382\n",
      "X83            3.3147     50.453      0.066      0.949    -110.817     117.446\n",
      "X84           69.8718     27.950      2.500      0.034       6.645     133.099\n",
      "X85            3.0629     30.810      0.099      0.923     -66.633      72.759\n",
      "X86            0.3910     15.204      0.026      0.980     -34.003      34.785\n",
      "X87            3.0139      3.492      0.863      0.410      -4.885      10.913\n",
      "X88         -159.8884     62.283     -2.567      0.030    -300.783     -18.994\n",
      "X89          -11.3593      5.573     -2.038      0.072     -23.967       1.249\n",
      "X90           11.6550     19.272      0.605      0.560     -31.940      55.250\n",
      "X91           34.3622     41.562      0.827      0.430     -59.658     128.383\n",
      "X92          -11.7675     20.986     -0.561      0.589     -59.242      35.707\n",
      "X93          -22.7792     16.735     -1.361      0.207     -60.637      15.079\n",
      "X94            0.3623     26.254      0.014      0.989     -59.029      59.754\n",
      "X95           20.9976     13.492      1.556      0.154      -9.523      51.518\n",
      "X96           22.2459     26.250      0.847      0.419     -37.136      81.628\n",
      "X97           -1.5033      2.405     -0.625      0.547      -6.944       3.937\n",
      "X98          -67.2191     24.460     -2.748      0.023    -122.551     -11.888\n",
      "X99           58.6156     15.908      3.685      0.005      22.629      94.602\n",
      "X100           4.0198      3.204      1.255      0.241      -3.229      11.268\n",
      "X101         -27.2844     54.352     -0.502      0.628    -150.237      95.668\n",
      "X102          40.5635     30.765      1.319      0.220     -29.031     110.158\n",
      "X103        -178.0442     69.189     -2.573      0.030    -334.560     -21.529\n",
      "X104          22.7919      7.948      2.868      0.019       4.812      40.772\n",
      "X105           2.4154      8.508      0.284      0.783     -16.832      21.663\n",
      "X106          -6.1492     17.386     -0.354      0.732     -45.480      33.182\n",
      "X107          15.0514      7.504      2.006      0.076      -1.925      32.028\n",
      "X108           0.0192      2.649      0.007      0.994      -5.974       6.013\n",
      "X109           2.7576      2.471      1.116      0.293      -2.832       8.347\n",
      "X110          44.6832     18.941      2.359      0.043       1.835      87.531\n",
      "X111         -59.6042     36.218     -1.646      0.134    -141.536      22.327\n",
      "X112          -5.7657     17.313     -0.333      0.747     -44.930      33.399\n",
      "X113          -2.8405     10.246     -0.277      0.788     -26.018      20.337\n",
      "X114           4.5093      6.081      0.741      0.477      -9.248      18.266\n",
      "X115         -22.2174     31.366     -0.708      0.497     -93.172      48.737\n",
      "X116           9.4205     32.582      0.289      0.779     -64.286      83.127\n",
      "X117           3.5857      5.794      0.619      0.551      -9.521      16.693\n",
      "X118         -75.4313     47.862     -1.576      0.149    -183.703      32.840\n",
      "X119          31.3648     27.859      1.126      0.289     -31.658      94.387\n",
      "X120          17.8227      8.279      2.153      0.060      -0.905      36.551\n",
      "X121           3.1929     28.078      0.114      0.912     -60.324      66.710\n",
      "X122          62.7433     24.860      2.524      0.033       6.507     118.979\n",
      "X123          66.6544     24.997      2.666      0.026      10.107     123.202\n",
      "X124          -2.2445     23.474     -0.096      0.926     -55.347      50.858\n",
      "X125         -85.3681     42.582     -2.005      0.076    -181.695      10.959\n",
      "X126         -12.6544     11.138     -1.136      0.285     -37.851      12.542\n",
      "X127          -2.7413      1.786     -1.535      0.159      -6.781       1.299\n",
      "X128         -17.9491     45.509     -0.394      0.702    -120.897      84.998\n",
      "X129         -19.3538     17.621     -1.098      0.301     -59.215      20.507\n",
      "X130          -0.0069      3.696     -0.002      0.999      -8.368       8.354\n",
      "X131         -87.9167     31.713     -2.772      0.022    -159.656     -16.178\n",
      "X132           2.9975      5.991      0.500      0.629     -10.555      16.550\n",
      "==============================================================================\n",
      "Omnibus:                        3.879   Durbin-Watson:                   2.660\n",
      "Prob(Omnibus):                  0.144   Jarque-Bera (JB):                3.985\n",
      "Skew:                           0.190   Prob(JB):                        0.136\n",
      "Kurtosis:                       3.734   Cond. No.                     1.00e+16\n",
      "==============================================================================\n",
      "\n",
      "Notes:\n",
      "[1] Standard Errors assume that the covariance matrix of the errors is correctly specified.\n",
      "[2] The smallest eigenvalue is 2.65e-26. This might indicate that there are\n",
      "strong multicollinearity problems or that the design matrix is singular.\n"
     ]
    }
   ],
   "source": [
    "#输出回归分析的结果\n",
    "print(results.summary())\n",
    "#print('Parameters: ', results.params)\n",
    "#print('R2: ', results.rsquared)"
   ],
   "metadata": {
    "collapsed": false,
    "ExecuteTime": {
     "start_time": "2023-08-03T22:33:02.304122Z",
     "end_time": "2023-08-03T22:33:02.333757Z"
    }
   }
  },
  {
   "cell_type": "code",
   "execution_count": 92,
   "outputs": [],
   "source": [
    "(results.pvalues).to_csv('C:\\\\Users\\\\59170\\\\Desktop\\\\pvalues.csv')#提取回归系数置信区间"
   ],
   "metadata": {
    "collapsed": false,
    "ExecuteTime": {
     "start_time": "2023-08-03T22:53:10.447249Z",
     "end_time": "2023-08-03T22:53:10.459295Z"
    }
   }
  },
  {
   "cell_type": "code",
   "execution_count": 97,
   "outputs": [],
   "source": [
    "#results.pvalues\n",
    "#results.summary()\n",
    "# Paramters = np.around(pd.DataFrame(results.params),decimals=4)\n",
    "# Paramters\n",
    "# Paramters.to_csv(\"C:\\\\Users\\\\59170\\\\Desktop\\Parameters.csv\")"
   ],
   "metadata": {
    "collapsed": false,
    "ExecuteTime": {
     "start_time": "2023-08-03T22:58:56.334100Z",
     "end_time": "2023-08-03T22:58:56.354757Z"
    }
   }
  },
  {
   "cell_type": "code",
   "execution_count": 100,
   "outputs": [
    {
     "data": {
      "text/plain": "<Figure size 432x288 with 1 Axes>",
      "image/png": "[encoded data removed]"
     },
     "metadata": {},
     "output_type": "display_data"
    }
   ],
   "source": [
    "#画图\n",
    "plt.rcParams['font.sans-serif'] = ['Kaiti']\n",
    "plt.rcParams['axes.unicode_minus'] = False\n",
    "\n",
    "predicts = results.predict() # 模型的预测值\n",
    "plt.scatter(y.index,y, label='实际值',color=\"r\", s=50) # 散点图\n",
    "plt.plot(y.index, predicts, color = 'green', label='预测值')\n",
    "plt.grid()  # 不显示网格\n",
    "plt.title(\"Scree Plot\")\n",
    "plt.xlabel(\"日期\")\n",
    "plt.ylabel(\"金融指数\")\n",
    "plt.legend() # 显示图例，即每条线对应 label 中的内容\n",
    "plt.show() # 显示图形"
   ],
   "metadata": {
    "collapsed": false,
    "ExecuteTime": {
     "start_time": "2023-08-03T23:03:12.671858Z",
     "end_time": "2023-08-03T23:03:13.098478Z"
    }
   }
  },
  {
   "cell_type": "code",
   "execution_count": 82,
   "outputs": [
    {
     "data": {
      "text/plain": "<Figure size 432x288 with 1 Axes>",
      "image/png": "[encoded data removed]"
     },
     "metadata": {},
     "output_type": "display_data"
    }
   ],
   "source": [],
   "metadata": {
    "collapsed": false,
    "ExecuteTime": {
     "start_time": "2023-08-03T22:31:50.625033Z",
     "end_time": "2023-08-03T22:31:50.852525Z"
    }
   }
  },
  {
   "cell_type": "code",
   "execution_count": 78,
   "outputs": [
    {
     "data": {
      "text/plain": "trade_date\n2023-01-03    1174.09\n2023-01-04    1191.31\n2023-01-05    1212.45\n2023-01-06    1210.68\n2023-01-09    1230.89\n               ...   \n2023-07-26    1169.72\n2023-07-27    1165.15\n2023-07-28    1246.71\n2023-07-31    1253.83\n2023-08-01    1238.79\nName: Y, Length: 140, dtype: float64"
     },
     "execution_count": 78,
     "metadata": {},
     "output_type": "execute_result"
    }
   ],
   "source": [
    "\n",
    "y"
   ],
   "metadata": {
    "collapsed": false,
    "ExecuteTime": {
     "start_time": "2023-08-03T22:30:05.761087Z",
     "end_time": "2023-08-03T22:30:05.791263Z"
    }
   }
  },
  {
   "cell_type": "code",
   "execution_count": 48,
   "outputs": [
    {
     "data": {
      "text/plain": "array([[13.77,  1.26,  3.98, ...,  9.23,  4.69, 13.77],\n       [14.32,  1.31,  3.99, ...,  9.27,  4.8 , 14.32],\n       [14.48,  1.29,  4.02, ...,  9.38,  4.78, 14.48],\n       ...,\n       [12.26,  1.35,  5.09, ..., 13.39,  4.51, 12.26],\n       [12.32,  1.42,  5.04, ..., 13.73,  4.61, 12.32],\n       [12.16,  1.43,  5.  , ..., 14.07,  4.6 , 12.16]])"
     },
     "execution_count": 48,
     "metadata": {},
     "output_type": "execute_result"
    }
   ],
   "source": [
    "x"
   ],
   "metadata": {
    "collapsed": false,
    "ExecuteTime": {
     "start_time": "2023-08-03T22:11:54.479774Z",
     "end_time": "2023-08-03T22:11:54.489815Z"
    }
   }
  },
  {
   "cell_type": "code",
   "execution_count": 43,
   "outputs": [],
   "source": [
    "x = np.array(x)"
   ],
   "metadata": {
    "collapsed": false,
    "ExecuteTime": {
     "start_time": "2023-08-03T22:11:11.337647Z",
     "end_time": "2023-08-03T22:11:11.344169Z"
    }
   }
  }
 ],
 "metadata": {
  "kernelspec": {
   "display_name": "Python 3",
   "language": "python",
   "name": "python3"
  },
  "language_info": {
   "codemirror_mode": {
    "name": "ipython",
    "version": 2
   },
   "file_extension": ".py",
   "mimetype": "text/x-python",
   "name": "python",
   "nbconvert_exporter": "python",
   "pygments_lexer": "ipython2",
   "version": "2.7.6"
  }
 },
 "nbformat": 4,
 "nbformat_minor": 0
}
