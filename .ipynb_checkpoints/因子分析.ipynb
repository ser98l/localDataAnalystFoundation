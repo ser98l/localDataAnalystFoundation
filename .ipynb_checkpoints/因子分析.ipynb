{
 "cells": [
  {
   "cell_type": "code",
   "execution_count": 12,
   "metadata": {
    "collapsed": true,
    "ExecuteTime": {
     "start_time": "2023-08-03T15:23:58.247002Z",
     "end_time": "2023-08-03T15:23:58.268193Z"
    }
   },
   "outputs": [],
   "source": [
    "import pandas as pd\n",
    "import numpy as np\n",
    "\n",
    "# 绘图\n",
    "import seaborn as sns\n",
    "import matplotlib.pyplot as plt\n",
    "\n",
    "#pca/因子分析\n",
    "\n",
    "from factor_analyzer import FactorAnalyzer"
   ]
  },
  {
   "cell_type": "code",
   "execution_count": 72,
   "outputs": [
    {
     "data": {
      "text/plain": "      open  close    low   high    avg     volume       money  capitalization  \\\n0    11.97  12.25  11.93  12.48  12.27  148047376  1816868033    1.940592e+06   \n1     0.87   0.86   0.82   0.87   0.85  171775743   146345703    5.196201e+05   \n2     4.46   4.52   4.44   4.56   4.51  107412517   484609049    2.503994e+06   \n3     2.17   2.20   2.16   2.24   2.20   69243536   152461296    6.184521e+05   \n4     2.50   2.47   2.40   2.53   2.47   71560095   176868205    5.318715e+04   \n..     ...    ...    ...    ...    ...        ...         ...             ...   \n124  41.40  42.08  41.20  42.60  41.96   15653801   656916903    4.827257e+05   \n125   5.29   5.35   5.29   5.36   5.33   31177049   166211932    3.656198e+05   \n126   6.10   6.15   5.97   6.22   6.12   65930407   403768901    4.893484e+06   \n127  12.43  12.38  12.04  12.51  12.31    8039942    99003021    6.100659e+04   \n128   4.57   4.55   4.52   4.59   4.56   50469086   229940234    1.803073e+05   \n\n     circulating_cap  market_cap  circulating_market_cap  turnover_ratio  \\\n0       1.940555e+06   2435.4426               2435.3960          0.7448   \n1       5.193962e+05     44.6873                 44.6681          3.3073   \n2       2.253551e+06   1131.8055               1018.6049          0.4766   \n3       5.392739e+05    136.0595                118.6403          1.2840   \n4       5.316411e+04     13.1372                 13.1315         13.4602   \n..               ...         ...                     ...             ...   \n124     9.296212e+04   2031.3097                391.1846          1.6839   \n125     3.569026e+05    206.5752                201.6500          0.8273   \n126     3.405268e+06   3180.7649               2213.4243          0.1831   \n127     6.100659e+04     75.9532                 75.9532          1.3105   \n128     1.543730e+05     85.4657                 73.1728          3.1406   \n\n     pe_ratio  pb_ratio  ps_ratio  pcf_ratio  \n0      5.1524    0.6463    1.3622   -15.8899  \n1     -0.3818    1.1145    0.4608   -10.9230  \n2     30.3509    1.1610    5.2533    94.5973  \n3    -13.5651    0.4962    0.4273  -154.7854  \n4    -45.9737    1.5357   66.8631  -177.9391  \n..        ...       ...       ...        ...  \n124   26.7365    2.4536    7.7866    17.7151  \n125    3.3959    0.4086    1.2791    -8.5348  \n126    5.1218    0.5811    1.5047     5.7776  \n127   27.0991    2.2564    1.1392    -8.9269  \n128    5.5104    0.5876    2.1098    21.0125  \n\n[129 rows x 16 columns]",
      "text/html": "<div>\n<style scoped>\n    .dataframe tbody tr th:only-of-type {\n        vertical-align: middle;\n    }\n\n    .dataframe tbody tr th {\n        vertical-align: top;\n    }\n\n    .dataframe thead th {\n        text-align: right;\n    }\n</style>\n<table border=\"1\" class=\"dataframe\">\n  <thead>\n    <tr style=\"text-align: right;\">\n      <th></th>\n      <th>open</th>\n      <th>close</th>\n      <th>low</th>\n      <th>high</th>\n      <th>avg</th>\n      <th>volume</th>\n      <th>money</th>\n      <th>capitalization</th>\n      <th>circulating_cap</th>\n      <th>market_cap</th>\n      <th>circulating_market_cap</th>\n      <th>turnover_ratio</th>\n      <th>pe_ratio</th>\n      <th>pb_ratio</th>\n      <th>ps_ratio</th>\n      <th>pcf_ratio</th>\n    </tr>\n  </thead>\n  <tbody>\n    <tr>\n      <th>0</th>\n      <td>11.97</td>\n      <td>12.25</td>\n      <td>11.93</td>\n      <td>12.48</td>\n      <td>12.27</td>\n      <td>148047376</td>\n      <td>1816868033</td>\n      <td>1.940592e+06</td>\n      <td>1.940555e+06</td>\n      <td>2435.4426</td>\n      <td>2435.3960</td>\n      <td>0.7448</td>\n      <td>5.1524</td>\n      <td>0.6463</td>\n      <td>1.3622</td>\n      <td>-15.8899</td>\n    </tr>\n    <tr>\n      <th>1</th>\n      <td>0.87</td>\n      <td>0.86</td>\n      <td>0.82</td>\n      <td>0.87</td>\n      <td>0.85</td>\n      <td>171775743</td>\n      <td>146345703</td>\n      <td>5.196201e+05</td>\n      <td>5.193962e+05</td>\n      <td>44.6873</td>\n      <td>44.6681</td>\n      <td>3.3073</td>\n      <td>-0.3818</td>\n      <td>1.1145</td>\n      <td>0.4608</td>\n      <td>-10.9230</td>\n    </tr>\n    <tr>\n      <th>2</th>\n      <td>4.46</td>\n      <td>4.52</td>\n      <td>4.44</td>\n      <td>4.56</td>\n      <td>4.51</td>\n      <td>107412517</td>\n      <td>484609049</td>\n      <td>2.503994e+06</td>\n      <td>2.253551e+06</td>\n      <td>1131.8055</td>\n      <td>1018.6049</td>\n      <td>0.4766</td>\n      <td>30.3509</td>\n      <td>1.1610</td>\n      <td>5.2533</td>\n      <td>94.5973</td>\n    </tr>\n    <tr>\n      <th>3</th>\n      <td>2.17</td>\n      <td>2.20</td>\n      <td>2.16</td>\n      <td>2.24</td>\n      <td>2.20</td>\n      <td>69243536</td>\n      <td>152461296</td>\n      <td>6.184521e+05</td>\n      <td>5.392739e+05</td>\n      <td>136.0595</td>\n      <td>118.6403</td>\n      <td>1.2840</td>\n      <td>-13.5651</td>\n      <td>0.4962</td>\n      <td>0.4273</td>\n      <td>-154.7854</td>\n    </tr>\n    <tr>\n      <th>4</th>\n      <td>2.50</td>\n      <td>2.47</td>\n      <td>2.40</td>\n      <td>2.53</td>\n      <td>2.47</td>\n      <td>71560095</td>\n      <td>176868205</td>\n      <td>5.318715e+04</td>\n      <td>5.316411e+04</td>\n      <td>13.1372</td>\n      <td>13.1315</td>\n      <td>13.4602</td>\n      <td>-45.9737</td>\n      <td>1.5357</td>\n      <td>66.8631</td>\n      <td>-177.9391</td>\n    </tr>\n    <tr>\n      <th>...</th>\n      <td>...</td>\n      <td>...</td>\n      <td>...</td>\n      <td>...</td>\n      <td>...</td>\n      <td>...</td>\n      <td>...</td>\n      <td>...</td>\n      <td>...</td>\n      <td>...</td>\n      <td>...</td>\n      <td>...</td>\n      <td>...</td>\n      <td>...</td>\n      <td>...</td>\n      <td>...</td>\n    </tr>\n    <tr>\n      <th>124</th>\n      <td>41.40</td>\n      <td>42.08</td>\n      <td>41.20</td>\n      <td>42.60</td>\n      <td>41.96</td>\n      <td>15653801</td>\n      <td>656916903</td>\n      <td>4.827257e+05</td>\n      <td>9.296212e+04</td>\n      <td>2031.3097</td>\n      <td>391.1846</td>\n      <td>1.6839</td>\n      <td>26.7365</td>\n      <td>2.4536</td>\n      <td>7.7866</td>\n      <td>17.7151</td>\n    </tr>\n    <tr>\n      <th>125</th>\n      <td>5.29</td>\n      <td>5.35</td>\n      <td>5.29</td>\n      <td>5.36</td>\n      <td>5.33</td>\n      <td>31177049</td>\n      <td>166211932</td>\n      <td>3.656198e+05</td>\n      <td>3.569026e+05</td>\n      <td>206.5752</td>\n      <td>201.6500</td>\n      <td>0.8273</td>\n      <td>3.3959</td>\n      <td>0.4086</td>\n      <td>1.2791</td>\n      <td>-8.5348</td>\n    </tr>\n    <tr>\n      <th>126</th>\n      <td>6.10</td>\n      <td>6.15</td>\n      <td>5.97</td>\n      <td>6.22</td>\n      <td>6.12</td>\n      <td>65930407</td>\n      <td>403768901</td>\n      <td>4.893484e+06</td>\n      <td>3.405268e+06</td>\n      <td>3180.7649</td>\n      <td>2213.4243</td>\n      <td>0.1831</td>\n      <td>5.1218</td>\n      <td>0.5811</td>\n      <td>1.5047</td>\n      <td>5.7776</td>\n    </tr>\n    <tr>\n      <th>127</th>\n      <td>12.43</td>\n      <td>12.38</td>\n      <td>12.04</td>\n      <td>12.51</td>\n      <td>12.31</td>\n      <td>8039942</td>\n      <td>99003021</td>\n      <td>6.100659e+04</td>\n      <td>6.100659e+04</td>\n      <td>75.9532</td>\n      <td>75.9532</td>\n      <td>1.3105</td>\n      <td>27.0991</td>\n      <td>2.2564</td>\n      <td>1.1392</td>\n      <td>-8.9269</td>\n    </tr>\n    <tr>\n      <th>128</th>\n      <td>4.57</td>\n      <td>4.55</td>\n      <td>4.52</td>\n      <td>4.59</td>\n      <td>4.56</td>\n      <td>50469086</td>\n      <td>229940234</td>\n      <td>1.803073e+05</td>\n      <td>1.543730e+05</td>\n      <td>85.4657</td>\n      <td>73.1728</td>\n      <td>3.1406</td>\n      <td>5.5104</td>\n      <td>0.5876</td>\n      <td>2.1098</td>\n      <td>21.0125</td>\n    </tr>\n  </tbody>\n</table>\n<p>129 rows × 16 columns</p>\n</div>"
     },
     "execution_count": 72,
     "metadata": {},
     "output_type": "execute_result"
    }
   ],
   "source": [
    "#读入数据\n",
    "df = pd.read_csv('C:\\\\Users\\\\59170\\\\Desktop\\\\PcaDataAfterDeal.csv')\n",
    "df = df.iloc[:,1:]\n",
    "#df.rename(columns={'open':'X1',\n",
    "                   # 'close':'X2',\n",
    "                   # 'low':'X3',\n",
    "                   #  'high':'X4',\n",
    "                   #  'avg':'X5',\n",
    "                   #  'volume':'X6',\n",
    "                   #  'money':'X7',\n",
    "                   #  'capitalization':'X8',\n",
    "                   #  'circulating_cap':'X9',\n",
    "                   #  'market_cap':'X10',\n",
    "                   #  'circulating_market_cap':'X11',\n",
    "                   #  'turnover_ratio':'X12',\n",
    "                   #  'pe_ratio':'X13',\n",
    "                   #  'pb_ratio':'X14',\n",
    "                   #  'ps_ratio':'X15',\n",
    "                   #  'pcf_ratio':'X16'},inplace=True)\n",
    "df"
   ],
   "metadata": {
    "collapsed": false,
    "ExecuteTime": {
     "start_time": "2023-08-03T17:49:17.660227Z",
     "end_time": "2023-08-03T17:49:17.700408Z"
    }
   }
  },
  {
   "cell_type": "code",
   "execution_count": 10,
   "outputs": [
    {
     "name": "stdout",
     "output_type": "stream",
     "text": [
      "5927.895367704192 0.0\n"
     ]
    }
   ],
   "source": [
    "# 进行Bartlett's球状检验\n",
    "from factor_analyzer.factor_analyzer import calculate_bartlett_sphericity\n",
    "\n",
    "\n",
    "chi_square_value, p_value = calculate_bartlett_sphericity(df)\n",
    "print(chi_square_value, p_value)\n"
   ],
   "metadata": {
    "collapsed": false,
    "ExecuteTime": {
     "start_time": "2023-08-03T15:22:45.336058Z",
     "end_time": "2023-08-03T15:22:45.428671Z"
    }
   }
  },
  {
   "cell_type": "code",
   "execution_count": 11,
   "outputs": [
    {
     "data": {
      "text/plain": "0.6067422494287346"
     },
     "execution_count": 11,
     "metadata": {},
     "output_type": "execute_result"
    }
   ],
   "source": [
    "from factor_analyzer.factor_analyzer import calculate_kmo\n",
    "kmo_all, kmo_model = calculate_kmo(df)\n",
    "kmo_model"
   ],
   "metadata": {
    "collapsed": false,
    "ExecuteTime": {
     "start_time": "2023-08-03T15:23:01.628261Z",
     "end_time": "2023-08-03T15:23:01.726032Z"
    }
   }
  },
  {
   "cell_type": "code",
   "execution_count": 47,
   "outputs": [
    {
     "name": "stdout",
     "output_type": "stream",
     "text": [
      "因子载荷矩阵:\n",
      " [[ 0.9625836  -0.26224141 -0.01369366 -0.04325938]\n",
      " [ 0.96269093 -0.26270987 -0.01065353 -0.04055504]\n",
      " [ 0.96278576 -0.26175518 -0.0143805  -0.04450717]\n",
      " [ 0.96343059 -0.26103656 -0.010706   -0.03754603]\n",
      " [ 0.96317562 -0.26152822 -0.01206681 -0.04035422]\n",
      " [ 0.18007784  0.6790901   0.15065344  0.69442226]\n",
      " [ 0.70361901  0.13768026  0.04860806  0.40849867]\n",
      " [ 0.1358456   0.93063885  0.06958945 -0.22103093]\n",
      " [ 0.13257202  0.9019939   0.06814997 -0.179584  ]\n",
      " [ 0.50719695  0.74191358  0.03582668 -0.15491275]\n",
      " [ 0.52416622  0.76426039  0.03223156 -0.1441393 ]\n",
      " [-0.05488128 -0.18348621  0.49254596  0.1966721 ]\n",
      " [ 0.02312914 -0.09841787  0.10727093 -0.07784117]\n",
      " [-0.0098018  -0.19397951  0.93598538 -0.17498277]\n",
      " [-0.0657615  -0.0944373   0.07942808 -0.03843583]\n",
      " [ 0.06076401  0.04563686 -0.27511713  0.03960735]]\n"
     ]
    }
   ],
   "source": [
    "faa = FactorAnalyzer(4,rotation=None)\n",
    "faa.fit(df)\n",
    "print(\"因子载荷矩阵:\\n\", faa.loadings_)\n"
   ],
   "metadata": {
    "collapsed": false,
    "ExecuteTime": {
     "start_time": "2023-08-03T16:24:47.502749Z",
     "end_time": "2023-08-03T16:24:47.624320Z"
    }
   }
  },
  {
   "cell_type": "code",
   "execution_count": 68,
   "outputs": [],
   "source": [
    "pd.DataFrame(faa.loadings_).to_csv(\"C:\\\\Users\\\\59170\\\\Desktop\\\\norotation.csv\",encoding='utf-8-sig')"
   ],
   "metadata": {
    "collapsed": false,
    "ExecuteTime": {
     "start_time": "2023-08-03T17:13:40.010855Z",
     "end_time": "2023-08-03T17:13:40.018832Z"
    }
   }
  },
  {
   "cell_type": "code",
   "execution_count": 39,
   "outputs": [
    {
     "name": "stdout",
     "output_type": "stream",
     "text": [
      "[5.79269318e+00 3.83307971e+00 1.59111426e+00 1.12346400e+00\n",
      " 1.05202625e+00 9.05140229e-01 7.27556977e-01 4.23347386e-01\n",
      " 2.55981946e-01 1.86574927e-01 1.07171567e-01 1.25814595e-03\n",
      " 4.56319499e-04 8.75562077e-05 4.16032468e-05 5.93626582e-06] [ 5.78580827e+00  3.81480998e+00  1.23587263e+00  9.29387889e-01\n",
      "  4.18464834e-01  2.45312082e-01  1.93721006e-01  1.06946407e-01\n",
      "  8.16344828e-02  7.91562835e-02  3.97776415e-02 -7.02495966e-04\n",
      " -1.02548639e-03 -1.04781988e-03 -1.11132690e-03 -2.80528678e-03]\n"
     ]
    }
   ],
   "source": [
    "\n",
    "# 得到特征值ev、特征向量v\n",
    "ev,v=faa.get_eigenvalues()\n",
    "print(ev,v)\n"
   ],
   "metadata": {
    "collapsed": false,
    "ExecuteTime": {
     "start_time": "2023-08-03T16:21:46.382274Z",
     "end_time": "2023-08-03T16:21:46.393035Z"
    }
   }
  },
  {
   "cell_type": "code",
   "execution_count": 34,
   "outputs": [],
   "source": [
    "import matplotlib as mpl\n",
    "\n",
    "mpl.rcParams['font.sans-serif'] = ['SimHei']  # 指定默认字体\n",
    "mpl.rcParams['axes.unicode_minus'] = False  # 解决保存图像是负号'-'显示为方块的问题"
   ],
   "metadata": {
    "collapsed": false,
    "ExecuteTime": {
     "start_time": "2023-08-03T15:45:00.649763Z",
     "end_time": "2023-08-03T15:45:00.660138Z"
    }
   }
  },
  {
   "cell_type": "code",
   "execution_count": 35,
   "outputs": [
    {
     "data": {
      "text/plain": "<Figure size 432x288 with 1 Axes>",
      "image/png": "[encoded data removed]"
     },
     "metadata": {},
     "output_type": "display_data"
    }
   ],
   "source": [
    " # 同样的数据绘制散点图和折线图\n",
    "plt.scatter(range(1, df.shape[1] + 1), ev)\n",
    "plt.plot(range(1, df.shape[1] + 1), ev)\n",
    "\n",
    "# 显示图的标题和xy轴的名字\n",
    "# 最好使用英文，中文可能乱码\n",
    "plt.title(\"Scree Plot\")\n",
    "plt.xlabel(\"Factors\")\n",
    "plt.ylabel(\"Eigenvalue\")\n",
    "\n",
    "plt.grid()  # 显示网格\n",
    "plt.show()  # 显示图形"
   ],
   "metadata": {
    "collapsed": false,
    "ExecuteTime": {
     "start_time": "2023-08-03T15:45:07.491755Z",
     "end_time": "2023-08-03T15:45:07.615105Z"
    }
   }
  },
  {
   "cell_type": "markdown",
   "source": [
    "建立因子分析模型"
   ],
   "metadata": {
    "collapsed": false
   }
  },
  {
   "cell_type": "code",
   "execution_count": 50,
   "outputs": [
    {
     "data": {
      "text/plain": "FactorAnalyzer(n_factors=4, rotation='varimax', rotation_kwargs={})"
     },
     "execution_count": 50,
     "metadata": {},
     "output_type": "execute_result"
    }
   ],
   "source": [
    "# 选择方式： varimax 方差最大化\n",
    "# 选择固定因子为 4 个\n",
    "faa_four = FactorAnalyzer(4,rotation='varimax')\n",
    "faa_four.fit(df)"
   ],
   "metadata": {
    "collapsed": false,
    "ExecuteTime": {
     "start_time": "2023-08-03T16:33:37.665948Z",
     "end_time": "2023-08-03T16:33:37.778786Z"
    }
   }
  },
  {
   "cell_type": "code",
   "execution_count": 51,
   "outputs": [
    {
     "name": "stdout",
     "output_type": "stream",
     "text": [
      "因子载荷矩阵:\n",
      " [[ 0.99793826  0.03617793 -0.01144661 -0.00871805]\n",
      " [ 0.99809445  0.03530824 -0.00868146 -0.00582667]\n",
      " [ 0.99802247  0.03699166 -0.01208788 -0.00982508]\n",
      " [ 0.99823661  0.03594857 -0.00939767 -0.00244128]\n",
      " [ 0.99821379  0.03620943 -0.01032707 -0.00545991]\n",
      " [-0.04554914  0.43446562 -0.06158044  0.89659516]\n",
      " [ 0.6215525   0.1762428  -0.0584366   0.51231397]\n",
      " [-0.13946493  0.94912874 -0.08969507  0.09949388]\n",
      " [-0.13513836  0.90834132 -0.08990995  0.12896914]\n",
      " [ 0.26951451  0.85262424 -0.11421682  0.1425285 ]\n",
      " [ 0.27890985  0.87275532 -0.12391712  0.16065857]\n",
      " [-0.00627434 -0.17263529  0.49707697  0.20256543]\n",
      " [ 0.05225089 -0.03866817  0.12985536 -0.0818507 ]\n",
      " [ 0.04591185  0.02328893  0.9679437  -0.06961643]\n",
      " [-0.03460417 -0.07645858  0.10259599 -0.05882015]\n",
      " [ 0.04543662  0.00252387 -0.28425157  0.01278102]]\n"
     ]
    }
   ],
   "source": [
    "print(\"因子载荷矩阵:\\n\", faa_four.loadings_)"
   ],
   "metadata": {
    "collapsed": false,
    "ExecuteTime": {
     "start_time": "2023-08-03T16:33:38.956606Z",
     "end_time": "2023-08-03T16:33:38.967360Z"
    }
   }
  },
  {
   "cell_type": "code",
   "execution_count": 56,
   "outputs": [],
   "source": [
    "mat_fac =np.mat(faa_four.loadings_)"
   ],
   "metadata": {
    "collapsed": false,
    "ExecuteTime": {
     "start_time": "2023-08-03T16:39:39.481483Z",
     "end_time": "2023-08-03T16:39:39.491511Z"
    }
   }
  },
  {
   "cell_type": "code",
   "execution_count": 59,
   "outputs": [],
   "source": [
    "pd.DataFrame(np.around(mat_fac,decimals=4)).to_csv(\"C:\\\\Users\\\\59170\\\\Desktop\\\\fac.csv\",encoding='utf-8-sig')"
   ],
   "metadata": {
    "collapsed": false,
    "ExecuteTime": {
     "start_time": "2023-08-03T16:41:56.330494Z",
     "end_time": "2023-08-03T16:41:56.356933Z"
    }
   }
  },
  {
   "cell_type": "code",
   "execution_count": null,
   "outputs": [],
   "source": [],
   "metadata": {
    "collapsed": false
   }
  },
  {
   "cell_type": "code",
   "execution_count": 61,
   "outputs": [
    {
     "data": {
      "text/plain": "array([0.9974, 0.9975, 0.9977, 0.9979, 0.9979, 0.9985, 0.6833, 0.9382,\n       0.8681, 0.833 , 0.8807, 0.318 , 0.0278, 0.9444, 0.021 , 0.083 ])"
     },
     "execution_count": 61,
     "metadata": {},
     "output_type": "execute_result"
    }
   ],
   "source": [
    "# 公因子方差\n",
    "np.around(faa_four.get_communalities(),4)"
   ],
   "metadata": {
    "collapsed": false,
    "ExecuteTime": {
     "start_time": "2023-08-03T16:57:51.212492Z",
     "end_time": "2023-08-03T16:57:51.222542Z"
    }
   }
  },
  {
   "cell_type": "code",
   "execution_count": null,
   "outputs": [],
   "source": [],
   "metadata": {
    "collapsed": false
   }
  },
  {
   "cell_type": "code",
   "execution_count": 64,
   "outputs": [
    {
     "data": {
      "text/plain": "          0\nX1   0.9974\nX2   0.9975\nX3   0.9977\nX4   0.9979\nX5   0.9979\nX6   0.9985\nX7   0.6833\nX8   0.9382\nX9   0.8681\nX10  0.8330\nX11  0.8807\nX12  0.3180\nX13  0.0278\nX14  0.9444\nX15  0.0210\nX16  0.0830",
      "text/html": "<div>\n<style scoped>\n    .dataframe tbody tr th:only-of-type {\n        vertical-align: middle;\n    }\n\n    .dataframe tbody tr th {\n        vertical-align: top;\n    }\n\n    .dataframe thead th {\n        text-align: right;\n    }\n</style>\n<table border=\"1\" class=\"dataframe\">\n  <thead>\n    <tr style=\"text-align: right;\">\n      <th></th>\n      <th>0</th>\n    </tr>\n  </thead>\n  <tbody>\n    <tr>\n      <th>X1</th>\n      <td>0.9974</td>\n    </tr>\n    <tr>\n      <th>X2</th>\n      <td>0.9975</td>\n    </tr>\n    <tr>\n      <th>X3</th>\n      <td>0.9977</td>\n    </tr>\n    <tr>\n      <th>X4</th>\n      <td>0.9979</td>\n    </tr>\n    <tr>\n      <th>X5</th>\n      <td>0.9979</td>\n    </tr>\n    <tr>\n      <th>X6</th>\n      <td>0.9985</td>\n    </tr>\n    <tr>\n      <th>X7</th>\n      <td>0.6833</td>\n    </tr>\n    <tr>\n      <th>X8</th>\n      <td>0.9382</td>\n    </tr>\n    <tr>\n      <th>X9</th>\n      <td>0.8681</td>\n    </tr>\n    <tr>\n      <th>X10</th>\n      <td>0.8330</td>\n    </tr>\n    <tr>\n      <th>X11</th>\n      <td>0.8807</td>\n    </tr>\n    <tr>\n      <th>X12</th>\n      <td>0.3180</td>\n    </tr>\n    <tr>\n      <th>X13</th>\n      <td>0.0278</td>\n    </tr>\n    <tr>\n      <th>X14</th>\n      <td>0.9444</td>\n    </tr>\n    <tr>\n      <th>X15</th>\n      <td>0.0210</td>\n    </tr>\n    <tr>\n      <th>X16</th>\n      <td>0.0830</td>\n    </tr>\n  </tbody>\n</table>\n</div>"
     },
     "execution_count": 64,
     "metadata": {},
     "output_type": "execute_result"
    }
   ],
   "source": [
    "pd.DataFrame(np.around(faa_four.get_communalities(),decimals=4),index=df.columns)"
   ],
   "metadata": {
    "collapsed": false,
    "ExecuteTime": {
     "start_time": "2023-08-03T17:07:59.265482Z",
     "end_time": "2023-08-03T17:07:59.276263Z"
    }
   }
  },
  {
   "cell_type": "code",
   "execution_count": 63,
   "outputs": [
    {
     "data": {
      "text/plain": "(array([5.79269318e+00, 3.83307971e+00, 1.59111426e+00, 1.12346400e+00,\n        1.05202625e+00, 9.05140229e-01, 7.27556977e-01, 4.23347386e-01,\n        2.55981946e-01, 1.86574927e-01, 1.07171567e-01, 1.25814595e-03,\n        4.56319499e-04, 8.75562077e-05, 4.16032468e-05, 5.93626582e-06]),\n array([ 5.74557427e+00,  3.72983384e+00,  1.24987873e+00,  8.63903911e-01,\n         2.23355370e-01,  1.06579403e-01,  6.36450828e-02, -1.84462030e-03,\n        -2.11477673e-03, -2.25593992e-03, -2.43791875e-03, -2.81498855e-02,\n        -5.20978866e-02, -8.85474749e-02, -1.04529639e-01, -1.16516195e-01]))"
     },
     "execution_count": 63,
     "metadata": {},
     "output_type": "execute_result"
    }
   ],
   "source": [
    "faa_four.get_eigenvalues()"
   ],
   "metadata": {
    "collapsed": false,
    "ExecuteTime": {
     "start_time": "2023-08-03T17:03:01.785221Z",
     "end_time": "2023-08-03T17:03:01.821861Z"
    }
   }
  },
  {
   "cell_type": "code",
   "execution_count": 73,
   "outputs": [
    {
     "name": "stdout",
     "output_type": "stream",
     "text": [
      "                               0         1         2         3\n",
      "open                    0.997938  0.036178  0.011447  0.008718\n",
      "close                   0.998094  0.035308  0.008681  0.005827\n",
      "low                     0.998022  0.036992  0.012088  0.009825\n",
      "high                    0.998237  0.035949  0.009398  0.002441\n",
      "avg                     0.998214  0.036209  0.010327  0.005460\n",
      "volume                  0.045549  0.434466  0.061580  0.896595\n",
      "money                   0.621552  0.176243  0.058437  0.512314\n",
      "capitalization          0.139465  0.949129  0.089695  0.099494\n",
      "circulating_cap         0.135138  0.908341  0.089910  0.128969\n",
      "market_cap              0.269515  0.852624  0.114217  0.142528\n",
      "circulating_market_cap  0.278910  0.872755  0.123917  0.160659\n",
      "turnover_ratio          0.006274  0.172635  0.497077  0.202565\n",
      "pe_ratio                0.052251  0.038668  0.129855  0.081851\n",
      "pb_ratio                0.045912  0.023289  0.967944  0.069616\n",
      "ps_ratio                0.034604  0.076459  0.102596  0.058820\n",
      "pcf_ratio               0.045437  0.002524  0.284252  0.012781\n"
     ]
    }
   ],
   "source": [
    "df1 = pd.DataFrame(np.abs(faa_four.loadings_),index=df.columns)\n",
    "print(df1)"
   ],
   "metadata": {
    "collapsed": false,
    "ExecuteTime": {
     "start_time": "2023-08-03T17:49:51.406332Z",
     "end_time": "2023-08-03T17:49:51.411863Z"
    }
   }
  },
  {
   "cell_type": "code",
   "execution_count": 74,
   "outputs": [
    {
     "data": {
      "text/plain": "<Figure size 1008x1008 with 2 Axes>",
      "image/png": "[encoded data removed]"
     },
     "metadata": {},
     "output_type": "display_data"
    }
   ],
   "source": [
    "# 绘图\n",
    "\n",
    "plt.figure(figsize = (14,14))\n",
    "ax = sns.heatmap(df1, annot=True, cmap=\"BuPu\")\n",
    "\n",
    "# 设置y轴字体大小\n",
    "ax.yaxis.set_tick_params(labelsize=15)\n",
    "plt.title(\"Factor Analysis\", fontsize=\"xx-large\")\n",
    "\n",
    "# 设置y轴标签\n",
    "plt.ylabel(\"Sepal Width\", fontsize=\"xx-large\")\n",
    "# 显示图片\n",
    "plt.show()\n",
    "\n",
    "# 保存图片\n",
    "# plt.savefig(\"factorAnalysis\", dpi=500)"
   ],
   "metadata": {
    "collapsed": false,
    "ExecuteTime": {
     "start_time": "2023-08-03T17:49:54.003308Z",
     "end_time": "2023-08-03T17:49:54.424835Z"
    }
   }
  },
  {
   "cell_type": "code",
   "execution_count": 75,
   "outputs": [
    {
     "data": {
      "text/plain": "array([[ 3.52208218e-01,  1.39856086e+00, -2.86010082e-01,\n         4.46670619e-01],\n       [-9.51460711e-01, -1.41649568e+00,  6.08949515e-03,\n         2.16071028e+00],\n       [-5.44930700e-01, -3.40384034e-01, -1.15193531e-01,\n         7.06721426e-01],\n       [-8.14901180e-01, -6.40825334e-01, -3.21017215e-01,\n         3.11273635e-01],\n       [-7.92548221e-01, -6.07163053e-01,  1.87586711e-01,\n         1.52878895e-01],\n       [ 1.99524397e-01, -3.37330145e-01,  2.38489737e-01,\n        -8.69109737e-01],\n       [-7.01862846e-01, -4.74478529e-01, -1.69005842e-01,\n        -1.33300824e-01],\n       [ 4.07671407e-01, -5.18818468e-02,  3.94096211e-01,\n        -9.11225956e-01],\n       [-2.22661360e-01, -4.44030465e-01, -2.71350312e-02,\n         2.17207477e+00],\n       [-6.83861975e-01, -6.75256836e-01, -2.08126496e-01,\n         1.80031524e-01],\n       [ 8.18390376e-03, -3.87319081e-01, -3.64169105e-01,\n        -8.38472173e-01],\n       [-1.95478451e-01, -1.79213230e-02, -6.91154527e-02,\n         2.37393416e-01],\n       [ 5.38654087e-01, -6.20068507e-02,  6.56023212e-01,\n        -9.42538051e-01],\n       [-2.72235086e-01, -1.15014818e-01, -1.12824666e-01,\n         6.48706722e-01],\n       [-6.65570298e-01, -6.71685328e-01, -1.65373438e-01,\n         2.51449022e-01],\n       [ 7.37009771e-01,  3.96253168e-01, -2.16198281e-01,\n        -2.98572570e-01],\n       [-4.16586547e-01, -3.61875521e-01, -1.68052922e-01,\n         4.36988015e-02],\n       [-5.81040529e-01, -5.17736471e-01, -1.63686660e-01,\n        -5.88799969e-01],\n       [-2.97893345e-01,  1.00168038e-01, -6.62371477e-02,\n        -4.51733566e-01],\n       [-7.54811997e-01, -3.33055984e-01, -3.01638685e-01,\n        -3.67671896e-01],\n       [ 5.93297946e-01, -2.62012896e-01,  2.14407701e+00,\n        -6.53102537e-01],\n       [ 2.08802039e+00,  1.20906849e+00, -3.45168443e-01,\n        -8.41959988e-01],\n       [-4.85276483e-01,  6.70689642e-01,  9.84402193e+00,\n        -8.91696749e-02],\n       [-2.09962907e-01, -3.51099659e-01, -2.40442452e-01,\n        -5.50181463e-01],\n       [-3.90544919e-01, -4.08111288e-01, -1.05681819e-01,\n         7.65110511e-02],\n       [-3.17516689e-01, -9.89721163e-02,  3.09149285e+00,\n        -4.85540764e-01],\n       [-1.04055984e-01, -3.01394673e-01, -1.38338404e-01,\n        -6.81998623e-01],\n       [-2.94050810e-01, -4.45706761e-01, -1.63623297e-01,\n        -1.19617330e-01],\n       [-8.69408169e-04,  2.40527881e-02, -2.06413859e-01,\n        -6.54544714e-01],\n       [-3.83721313e-01, -3.63002051e-01,  2.32692147e-02,\n        -1.15955635e-01],\n       [-6.13757785e-01, -6.66907564e-01, -2.86233690e-01,\n         8.23206037e-02],\n       [-5.60276838e-01, -4.87814841e-01, -2.91018068e-01,\n        -3.87281244e-01],\n       [ 1.47672135e-03, -1.26666841e+00, -1.45189868e-01,\n         1.50067743e+00],\n       [-8.37643115e-01, -5.70600961e-01, -3.46328879e-01,\n         8.19927279e-02],\n       [-5.87208770e-02, -1.63975788e-01, -5.96117800e-02,\n        -3.10519051e-02],\n       [ 5.58963669e-01,  5.24897228e-01,  1.20377372e+00,\n        -9.88588929e-01],\n       [-7.17833379e-01, -3.41510411e-01, -3.41709533e-01,\n        -6.31087702e-01],\n       [-7.35770291e-01, -6.18598022e-01, -3.74549090e-01,\n        -3.13517016e-01],\n       [ 6.22144379e-01,  2.06181624e-02,  2.22536912e-01,\n        -1.06266573e+00],\n       [-2.32905861e-01, -3.98708834e-01, -3.17893723e-01,\n        -5.01017586e-01],\n       [ 8.21207904e-01,  1.81266763e+00,  8.52458685e-01,\n         2.00358939e+00],\n       [-2.34548144e-01,  5.51104240e-01, -5.03982240e-01,\n        -6.80521028e-01],\n       [-4.46873977e-01, -3.40486951e-01, -4.00601669e-01,\n        -2.99295136e-03],\n       [-7.01316358e-01,  2.71078456e-02, -4.20028228e-01,\n         1.65958423e-01],\n       [ 1.45975632e+00,  3.50061056e-01, -1.70216900e-01,\n         6.17482388e-01],\n       [ 2.81149666e+00,  1.50755040e+00, -6.62086012e-01,\n        -5.39726278e-02],\n       [ 4.72289096e-01,  2.28563111e-01,  3.54944543e-01,\n        -8.96207611e-01],\n       [-2.27874760e-01, -3.87434459e-01, -1.99482275e-01,\n        -7.74931551e-02],\n       [-1.07646300e-01,  2.61194841e-01,  2.15710188e-01,\n        -2.19771201e-01],\n       [ 2.24364153e-02, -2.33750993e-02, -7.16340580e-02,\n         2.06212915e-01],\n       [-6.13617398e-01, -5.41947257e-01, -2.65878615e-01,\n        -3.53350728e-01],\n       [-2.84458322e-01,  4.32636534e-02, -1.91331986e-01,\n        -4.77300520e-01],\n       [-3.28074170e-01, -8.91066443e-02,  4.73248023e-01,\n        -7.48815011e-01],\n       [-6.26151174e-01, -4.21634022e-01, -1.05007110e-01,\n         4.36141517e-01],\n       [-4.22819022e-01, -4.16661878e-01, -2.89892009e-01,\n         3.44662353e-02],\n       [ 2.27601711e-01, -2.79156266e-01, -8.17482122e-02,\n        -7.76003551e-01],\n       [-7.24730722e-01, -5.24922696e-01, -2.25336295e-01,\n        -6.09340527e-01],\n       [-4.50726318e-01, -4.41008692e-01, -3.50686066e-01,\n        -6.89004127e-01],\n       [-6.21261627e-01, -7.43497438e-01, -1.61178089e-01,\n         9.88639203e-01],\n       [ 3.97177583e-01, -3.65456698e-01,  1.24272165e-01,\n        -7.61204445e-01],\n       [-8.02447689e-01, -6.62533042e-01, -3.93283858e-01,\n        -3.79576047e-01],\n       [-6.14723252e-01, -4.15137924e-01,  6.94125594e-01,\n        -2.73745284e-01],\n       [-3.86020602e-01, -4.23229328e-01, -7.60738167e-02,\n        -6.43439197e-01],\n       [ 1.05730273e-02, -3.67229522e-01, -3.38304632e-01,\n        -6.89570935e-02],\n       [-4.61659309e-01, -5.12742486e-01, -2.42903495e-01,\n        -3.09296646e-01],\n       [-8.22459374e-01, -5.58301240e-01, -3.53510268e-01,\n        -5.47443004e-01],\n       [-5.52971794e-01, -5.83941300e-01, -1.37765139e-01,\n         7.56436080e-03],\n       [-1.84500972e-01, -2.16917152e-01,  1.46918549e-01,\n        -6.26684705e-01],\n       [-4.29692484e-01, -3.48193984e-01, -3.06879524e-01,\n        -5.48978237e-01],\n       [-4.94755663e-01, -5.82126584e-01, -1.40749179e-01,\n         1.67630225e-01],\n       [-1.83799849e-01, -4.28556212e-01,  1.84120589e-02,\n         4.05165049e-01],\n       [-2.13822803e-01,  7.79698507e-02,  9.21764388e-02,\n         4.56068573e+00],\n       [ 3.62373545e-01,  6.42898295e-01, -2.05676421e-01,\n        -1.30128209e-01],\n       [ 9.23033368e-01,  1.10037786e-01,  2.06091097e-03,\n        -1.12682997e+00],\n       [-6.73105831e-01, -5.12843417e-01, -3.68629592e-01,\n        -4.07938520e-01],\n       [ 1.72994942e-01, -2.26616061e-02,  1.72113691e-02,\n         9.66504711e-01],\n       [ 5.64065051e-01,  2.37686465e-01, -2.47826910e-01,\n        -8.61843245e-01],\n       [-3.23643406e-02, -2.85479696e-02, -3.67300899e-01,\n        -5.98317066e-01],\n       [ 6.82547737e-01, -2.02961888e-01,  3.68449035e-01,\n        -7.14940494e-01],\n       [ 2.02673865e+00, -1.16413383e+00,  1.64376391e-01,\n        -1.81081940e-01],\n       [-6.71166395e-01, -2.63518083e-01, -3.38832023e-01,\n         3.08239413e-01],\n       [-7.31599312e-01, -1.00305199e+00,  1.52626246e-01,\n         1.33128275e+00],\n       [-1.72774656e-01, -1.83028630e-01, -7.76716995e-02,\n         5.36831520e-01],\n       [-1.90111921e-01, -2.08790816e-01, -2.74168868e-01,\n        -7.29062948e-01],\n       [ 5.03739892e-01,  2.56682412e-02,  4.85859897e-01,\n        -8.13064405e-01],\n       [-6.60369301e-01, -1.64821453e+00,  3.68931459e-01,\n         6.59636589e+00],\n       [ 7.72022740e-01,  2.43189153e+00, -4.87692158e-01,\n        -9.43981066e-01],\n       [-5.50404604e-01, -4.95582876e-01, -4.09846614e-01,\n         2.24372195e-01],\n       [-4.55290050e-01, -3.98717562e-01, -3.53519663e-01,\n        -6.50713798e-01],\n       [-1.06227393e-01,  4.96513230e-01, -6.07973425e-02,\n        -1.80391413e-01],\n       [ 6.59198920e-01,  1.50969936e-01, -3.03007813e-01,\n        -5.48594442e-01],\n       [-3.88756980e-01, -2.26068565e-01, -4.17129435e-01,\n        -2.11005173e-01],\n       [-1.24902816e-01, -1.66425834e-01,  2.84536089e-01,\n        -2.50277697e-01],\n       [-9.05515582e-01,  3.69523432e+00, -3.14851271e-01,\n         2.75507870e+00],\n       [ 5.26268283e+00, -8.62407427e-01, -4.40125640e-01,\n         2.81037878e+00],\n       [-3.52580514e-01, -1.81828391e-01, -3.83852735e-02,\n         2.11868278e+00],\n       [-5.11279780e-01,  1.14679755e+00, -3.37567569e-01,\n         4.05976500e-01],\n       [ 3.48856779e+00,  6.09851865e-02,  1.45775163e-01,\n         1.28310696e-02],\n       [-6.15269086e-01, -4.54844277e-01, -3.95746730e-02,\n         1.37041955e-01],\n       [-2.84548641e-01, -4.89190733e-01,  2.70068572e-02,\n         1.70286362e+00],\n       [-8.30596003e-01,  6.92906900e+00, -5.12950171e-01,\n        -6.61947154e-01],\n       [ 1.47610802e-01, -3.18415198e-01, -1.61003409e-02,\n        -5.96669367e-01],\n       [-3.80398016e-01, -1.22527555e-01, -1.63237821e-01,\n        -5.45565258e-01],\n       [-2.41481981e-01, -3.06117014e-02, -1.48373924e-01,\n         4.66113797e-01],\n       [-1.53196784e-01, -1.21476509e-01, -2.99142062e-01,\n        -6.76273632e-01],\n       [ 2.63496803e+00,  3.29772351e-01, -1.08343384e-01,\n         1.88933464e-01],\n       [ 3.80842214e+00,  5.45042789e-01, -2.08631263e-01,\n         1.65784560e-01],\n       [-5.89644607e-01,  2.25676155e+00, -6.93291508e-02,\n         3.28463528e-01],\n       [-6.14053071e-01, -3.49383746e-01, -3.37140687e-01,\n        -5.73932520e-01],\n       [ 5.81458255e-01,  5.56748635e-01, -2.43418545e-01,\n        -2.26173995e-01],\n       [ 1.83828161e-01,  4.77927724e-02, -9.27568538e-03,\n        -7.07682198e-01],\n       [ 7.23798550e-01,  2.04418621e-01, -1.87633423e-01,\n        -6.32141711e-01],\n       [-7.80196159e-01,  4.62468076e-01, -3.10954577e-01,\n         4.55509626e-01],\n       [-4.24736556e-01, -3.46803728e-01, -4.03461847e-01,\n        -6.38310806e-01],\n       [ 4.45526229e-01,  1.75038108e-01, -2.72448961e-01,\n        -7.05303825e-01],\n       [-7.74456824e-01, -6.54221595e-01, -3.22335443e-01,\n        -5.52986245e-04],\n       [ 1.17004203e-01,  3.14757398e-01, -3.36916309e-02,\n        -5.92439431e-01],\n       [ 2.03435503e-01, -7.29457388e-01, -1.22674964e-02,\n         1.57083676e+00],\n       [-2.54439801e-01, -1.53650966e-01, -1.37845780e-01,\n        -4.66350486e-01],\n       [-7.70161892e-01, -4.57068472e-01, -3.11103556e-01,\n         8.26351860e-01],\n       [-4.24190189e-01,  2.02453814e+00, -2.08870162e-01,\n         2.67023007e-02],\n       [-1.83196382e-01, -3.00932552e-01, -3.82771691e-01,\n        -8.32436743e-01],\n       [-1.05918485e+00,  7.24440605e+00, -2.49147790e-01,\n        -1.49660069e+00],\n       [-7.16843489e-02, -2.15649450e-01,  1.13321881e-02,\n        -5.34346830e-01],\n       [ 4.12004577e+00, -1.73228383e+00,  7.13788037e-02,\n         6.39364490e-02],\n       [-4.48758016e-01, -4.15672954e-01, -4.20591223e-01,\n        -4.11838904e-01],\n       [-3.56384373e-01,  1.49142678e-01, -3.61782548e-01,\n        -4.22863831e-02],\n       [ 3.86087120e-01, -5.35367542e-01,  2.37371140e-01,\n        -6.07829763e-01],\n       [-5.41114789e-01, -5.72945647e-01, -3.02638638e-01,\n        -9.60722400e-02]])"
     },
     "execution_count": 75,
     "metadata": {},
     "output_type": "execute_result"
    }
   ],
   "source": [
    "#原始数据转成4个新的特征,即计算因子得分\n",
    "faa_four.transform(df)"
   ],
   "metadata": {
    "collapsed": false,
    "ExecuteTime": {
     "start_time": "2023-08-03T17:53:53.408397Z",
     "end_time": "2023-08-03T17:53:53.440347Z"
    }
   }
  },
  {
   "cell_type": "code",
   "execution_count": 76,
   "outputs": [
    {
     "name": "stdout",
     "output_type": "stream",
     "text": [
      "            0         1         2         3\n",
      "0    0.352208  1.398561 -0.286010  0.446671\n",
      "1   -0.951461 -1.416496  0.006089  2.160710\n",
      "2   -0.544931 -0.340384 -0.115194  0.706721\n",
      "3   -0.814901 -0.640825 -0.321017  0.311274\n",
      "4   -0.792548 -0.607163  0.187587  0.152879\n",
      "..        ...       ...       ...       ...\n",
      "124  4.120046 -1.732284  0.071379  0.063936\n",
      "125 -0.448758 -0.415673 -0.420591 -0.411839\n",
      "126 -0.356384  0.149143 -0.361783 -0.042286\n",
      "127  0.386087 -0.535368  0.237371 -0.607830\n",
      "128 -0.541115 -0.572946 -0.302639 -0.096072\n",
      "\n",
      "[129 rows x 4 columns]\n"
     ]
    }
   ],
   "source": [
    "factor_score = pd.DataFrame(faa_four.transform(df),)\n",
    "print(factor_score)"
   ],
   "metadata": {
    "collapsed": false,
    "ExecuteTime": {
     "start_time": "2023-08-03T17:57:58.289169Z",
     "end_time": "2023-08-03T17:57:58.310148Z"
    }
   }
  },
  {
   "cell_type": "code",
   "execution_count": 77,
   "outputs": [],
   "source": [
    "factor_score.to_csv(\"C:\\\\Users\\\\59170\\Desktop\\\\factor_score.csv\",encoding='utf-8-sig')"
   ],
   "metadata": {
    "collapsed": false,
    "ExecuteTime": {
     "start_time": "2023-08-03T17:59:37.567648Z",
     "end_time": "2023-08-03T17:59:37.591323Z"
    }
   }
  }
 ],
 "metadata": {
  "kernelspec": {
   "display_name": "Python 3",
   "language": "python",
   "name": "python3"
  },
  "language_info": {
   "codemirror_mode": {
    "name": "ipython",
    "version": 2
   },
   "file_extension": ".py",
   "mimetype": "text/x-python",
   "name": "python",
   "nbconvert_exporter": "python",
   "pygments_lexer": "ipython2",
   "version": "2.7.6"
  }
 },
 "nbformat": 4,
 "nbformat_minor": 0
}
